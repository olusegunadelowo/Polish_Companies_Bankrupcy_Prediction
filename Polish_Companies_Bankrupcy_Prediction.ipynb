{
  "cells": [
    {
      "cell_type": "markdown",
      "metadata": {
        "id": "view-in-github",
        "colab_type": "text"
      },
      "source": [
        "<a href=\"https://colab.research.google.com/github/olusegunadelowo/Polish_Companies_Bankrupcy_Prediction/blob/main/Polish_Companies_Bankrupcy_Prediction.ipynb\" target=\"_parent\"><img src=\"https://colab.research.google.com/assets/colab-badge.svg\" alt=\"Open In Colab\"/></a>"
      ]
    },
    {
      "cell_type": "markdown",
      "metadata": {
        "id": "_dbRGyEHN8Zh"
      },
      "source": []
    },
    {
      "cell_type": "code",
      "execution_count": null,
      "metadata": {
        "id": "LAoEmGq9LMey"
      },
      "outputs": [],
      "source": [
        "#Importing libraries\n",
        "import gzip                                                                                 #Python library to decompressed a compressed file.\n",
        "import json                                                                                 #Python library to load json file into a dictonary.\n",
        "from scipy.io import arff                                                                   #Python package to read attribute-relation file format.\n",
        "import pandas as pd                                                                         #Python library to for table and graphics.\n",
        "import pickle  as pk                                                                        #Python library for saving a model.\n",
        "import matplotlib.pyplot as plt                                                             #Python library for graph manipulation\n",
        "import seaborn as sns                                                                       #Python library for graph manipulation\n",
        "from imblearn.over_sampling import RandomOverSampler                                        #Python package for over_sampling an imbalanced classes\n",
        "from imblearn.under_sampling import RandomUnderSampler                                      #Python package for under_sampling an imbalanced classes\n",
        "from sklearn.impute import SimpleImputer                                                    #Python package for filling missing values\n",
        "from sklearn.metrics import ConfusionMatrixDisplay                                          #Python package for displaying a confusion matrix metric\n",
        "from sklearn.model_selection import train_test_split                                        #Python package for splitting dataset into train and test dataset.\n",
        "from sklearn.pipeline import make_pipeline                                                  #Python package for building a pipeline\n",
        "from sklearn.tree import DecisionTreeClassifier                                             #Python package for importing a decision tree classifier algorithm\n",
        "from sklearn.ensemble import RandomForestClassifier                                         #Python package for importing a random forest classifier algorithm\n",
        "from sklearn.ensemble import GradientBoostingClassifier                                     #Python package for importing a gradient boosting classifier algorithm\n",
        "from sklearn.model_selection import GridSearchCV, cross_val_score, train_test_split         #Python packages for importing a GridSearhCV and cross_val_score\n"
      ]
    },
    {
      "cell_type": "markdown",
      "metadata": {
        "id": "RowYcFtPFFdR"
      },
      "source": [
        "## `Mount and Import Data from GoogleDrive`\n",
        "Since we are importing our dataset from the google drive, we need to mount it on the google drive first"
      ]
    },
    {
      "cell_type": "code",
      "execution_count": null,
      "metadata": {
        "colab": {
          "base_uri": "https://localhost:8080/"
        },
        "id": "soyz0Wz-PS9w",
        "outputId": "ce779fbe-1aa2-47c1-d611-bf1b16e442e1"
      },
      "outputs": [
        {
          "output_type": "stream",
          "name": "stdout",
          "text": [
            "Mounted at /content/gdrive\n"
          ]
        }
      ],
      "source": [
        "#Mounts the dataset from google drive\n",
        "from google.colab import drive\n",
        "drive.mount('/content/gdrive')"
      ]
    },
    {
      "cell_type": "code",
      "execution_count": null,
      "metadata": {
        "id": "ICMnhwjO-EC-"
      },
      "outputs": [],
      "source": [
        "#Build a wrangle function to import dataset from where it's mounted.\n",
        "def wrangle(filepath , index):       #defines\n",
        "  data = arff.loadarff(filepath)\n",
        "  df = pd.DataFrame(data[index])\n",
        "  return df"
      ]
    },
    {
      "cell_type": "code",
      "execution_count": null,
      "metadata": {
        "colab": {
          "base_uri": "https://localhost:8080/",
          "height": 300
        },
        "id": "vF9l4QWd9lXv",
        "outputId": "34e0ec7d-80a0-4e66-b9ff-5f12cf5f9935"
      },
      "outputs": [
        {
          "output_type": "execute_result",
          "data": {
            "text/plain": [
              "      Attr1    Attr2     Attr3   Attr4   Attr5     Attr6    Attr7    Attr8  \\\n",
              "0  0.202350  0.46500  0.240380  1.5171 -14.547  0.510690  0.25366  0.91816   \n",
              "1  0.030073  0.59563  0.186680  1.3382 -37.859 -0.000319  0.04167  0.67890   \n",
              "2  0.257860  0.29949  0.665190  3.2211  71.799  0.000000  0.31877  2.33200   \n",
              "3  0.227160  0.67850  0.042784  1.0828 -88.212  0.000000  0.28505  0.47384   \n",
              "4  0.085443  0.38039  0.359230  1.9444  21.731  0.187900  0.10823  1.37140   \n",
              "\n",
              "     Attr9   Attr10  ...   Attr56    Attr57   Attr58   Attr59  Attr60  \\\n",
              "0  1.15190  0.42695  ...  0.13184  0.473950  0.86816  0.00024  8.5487   \n",
              "1  0.32356  0.40437  ...  0.12146  0.074369  0.87235  0.00000  1.5264   \n",
              "2  1.67620  0.69841  ...  0.16499  0.369210  0.81614  0.00000  4.3325   \n",
              "3  1.32410  0.32150  ...  0.29358  0.706570  0.78617  0.48456  5.2309   \n",
              "4  1.11260  0.52167  ...  0.10124  0.163790  0.89876  0.00000  5.7035   \n",
              "\n",
              "    Attr61   Attr62   Attr63   Attr64  class  \n",
              "0  5.16550  107.740  3.38790   5.3440   b'0'  \n",
              "1  0.63305  622.660  0.58619   1.2381   b'0'  \n",
              "2  3.19850   65.215  5.59690  47.4660   b'0'  \n",
              "3  5.06750  142.460  2.56210   3.0066   b'0'  \n",
              "4  4.00200   89.058  4.09840   5.9874   b'0'  \n",
              "\n",
              "[5 rows x 65 columns]"
            ],
            "text/html": [
              "\n",
              "  <div id=\"df-8f377a99-d1a2-4291-bcd7-fa1ef71f812a\">\n",
              "    <div class=\"colab-df-container\">\n",
              "      <div>\n",
              "<style scoped>\n",
              "    .dataframe tbody tr th:only-of-type {\n",
              "        vertical-align: middle;\n",
              "    }\n",
              "\n",
              "    .dataframe tbody tr th {\n",
              "        vertical-align: top;\n",
              "    }\n",
              "\n",
              "    .dataframe thead th {\n",
              "        text-align: right;\n",
              "    }\n",
              "</style>\n",
              "<table border=\"1\" class=\"dataframe\">\n",
              "  <thead>\n",
              "    <tr style=\"text-align: right;\">\n",
              "      <th></th>\n",
              "      <th>Attr1</th>\n",
              "      <th>Attr2</th>\n",
              "      <th>Attr3</th>\n",
              "      <th>Attr4</th>\n",
              "      <th>Attr5</th>\n",
              "      <th>Attr6</th>\n",
              "      <th>Attr7</th>\n",
              "      <th>Attr8</th>\n",
              "      <th>Attr9</th>\n",
              "      <th>Attr10</th>\n",
              "      <th>...</th>\n",
              "      <th>Attr56</th>\n",
              "      <th>Attr57</th>\n",
              "      <th>Attr58</th>\n",
              "      <th>Attr59</th>\n",
              "      <th>Attr60</th>\n",
              "      <th>Attr61</th>\n",
              "      <th>Attr62</th>\n",
              "      <th>Attr63</th>\n",
              "      <th>Attr64</th>\n",
              "      <th>class</th>\n",
              "    </tr>\n",
              "  </thead>\n",
              "  <tbody>\n",
              "    <tr>\n",
              "      <th>0</th>\n",
              "      <td>0.202350</td>\n",
              "      <td>0.46500</td>\n",
              "      <td>0.240380</td>\n",
              "      <td>1.5171</td>\n",
              "      <td>-14.547</td>\n",
              "      <td>0.510690</td>\n",
              "      <td>0.25366</td>\n",
              "      <td>0.91816</td>\n",
              "      <td>1.15190</td>\n",
              "      <td>0.42695</td>\n",
              "      <td>...</td>\n",
              "      <td>0.13184</td>\n",
              "      <td>0.473950</td>\n",
              "      <td>0.86816</td>\n",
              "      <td>0.00024</td>\n",
              "      <td>8.5487</td>\n",
              "      <td>5.16550</td>\n",
              "      <td>107.740</td>\n",
              "      <td>3.38790</td>\n",
              "      <td>5.3440</td>\n",
              "      <td>b'0'</td>\n",
              "    </tr>\n",
              "    <tr>\n",
              "      <th>1</th>\n",
              "      <td>0.030073</td>\n",
              "      <td>0.59563</td>\n",
              "      <td>0.186680</td>\n",
              "      <td>1.3382</td>\n",
              "      <td>-37.859</td>\n",
              "      <td>-0.000319</td>\n",
              "      <td>0.04167</td>\n",
              "      <td>0.67890</td>\n",
              "      <td>0.32356</td>\n",
              "      <td>0.40437</td>\n",
              "      <td>...</td>\n",
              "      <td>0.12146</td>\n",
              "      <td>0.074369</td>\n",
              "      <td>0.87235</td>\n",
              "      <td>0.00000</td>\n",
              "      <td>1.5264</td>\n",
              "      <td>0.63305</td>\n",
              "      <td>622.660</td>\n",
              "      <td>0.58619</td>\n",
              "      <td>1.2381</td>\n",
              "      <td>b'0'</td>\n",
              "    </tr>\n",
              "    <tr>\n",
              "      <th>2</th>\n",
              "      <td>0.257860</td>\n",
              "      <td>0.29949</td>\n",
              "      <td>0.665190</td>\n",
              "      <td>3.2211</td>\n",
              "      <td>71.799</td>\n",
              "      <td>0.000000</td>\n",
              "      <td>0.31877</td>\n",
              "      <td>2.33200</td>\n",
              "      <td>1.67620</td>\n",
              "      <td>0.69841</td>\n",
              "      <td>...</td>\n",
              "      <td>0.16499</td>\n",
              "      <td>0.369210</td>\n",
              "      <td>0.81614</td>\n",
              "      <td>0.00000</td>\n",
              "      <td>4.3325</td>\n",
              "      <td>3.19850</td>\n",
              "      <td>65.215</td>\n",
              "      <td>5.59690</td>\n",
              "      <td>47.4660</td>\n",
              "      <td>b'0'</td>\n",
              "    </tr>\n",
              "    <tr>\n",
              "      <th>3</th>\n",
              "      <td>0.227160</td>\n",
              "      <td>0.67850</td>\n",
              "      <td>0.042784</td>\n",
              "      <td>1.0828</td>\n",
              "      <td>-88.212</td>\n",
              "      <td>0.000000</td>\n",
              "      <td>0.28505</td>\n",
              "      <td>0.47384</td>\n",
              "      <td>1.32410</td>\n",
              "      <td>0.32150</td>\n",
              "      <td>...</td>\n",
              "      <td>0.29358</td>\n",
              "      <td>0.706570</td>\n",
              "      <td>0.78617</td>\n",
              "      <td>0.48456</td>\n",
              "      <td>5.2309</td>\n",
              "      <td>5.06750</td>\n",
              "      <td>142.460</td>\n",
              "      <td>2.56210</td>\n",
              "      <td>3.0066</td>\n",
              "      <td>b'0'</td>\n",
              "    </tr>\n",
              "    <tr>\n",
              "      <th>4</th>\n",
              "      <td>0.085443</td>\n",
              "      <td>0.38039</td>\n",
              "      <td>0.359230</td>\n",
              "      <td>1.9444</td>\n",
              "      <td>21.731</td>\n",
              "      <td>0.187900</td>\n",
              "      <td>0.10823</td>\n",
              "      <td>1.37140</td>\n",
              "      <td>1.11260</td>\n",
              "      <td>0.52167</td>\n",
              "      <td>...</td>\n",
              "      <td>0.10124</td>\n",
              "      <td>0.163790</td>\n",
              "      <td>0.89876</td>\n",
              "      <td>0.00000</td>\n",
              "      <td>5.7035</td>\n",
              "      <td>4.00200</td>\n",
              "      <td>89.058</td>\n",
              "      <td>4.09840</td>\n",
              "      <td>5.9874</td>\n",
              "      <td>b'0'</td>\n",
              "    </tr>\n",
              "  </tbody>\n",
              "</table>\n",
              "<p>5 rows × 65 columns</p>\n",
              "</div>\n",
              "      <button class=\"colab-df-convert\" onclick=\"convertToInteractive('df-8f377a99-d1a2-4291-bcd7-fa1ef71f812a')\"\n",
              "              title=\"Convert this dataframe to an interactive table.\"\n",
              "              style=\"display:none;\">\n",
              "        \n",
              "  <svg xmlns=\"http://www.w3.org/2000/svg\" height=\"24px\"viewBox=\"0 0 24 24\"\n",
              "       width=\"24px\">\n",
              "    <path d=\"M0 0h24v24H0V0z\" fill=\"none\"/>\n",
              "    <path d=\"M18.56 5.44l.94 2.06.94-2.06 2.06-.94-2.06-.94-.94-2.06-.94 2.06-2.06.94zm-11 1L8.5 8.5l.94-2.06 2.06-.94-2.06-.94L8.5 2.5l-.94 2.06-2.06.94zm10 10l.94 2.06.94-2.06 2.06-.94-2.06-.94-.94-2.06-.94 2.06-2.06.94z\"/><path d=\"M17.41 7.96l-1.37-1.37c-.4-.4-.92-.59-1.43-.59-.52 0-1.04.2-1.43.59L10.3 9.45l-7.72 7.72c-.78.78-.78 2.05 0 2.83L4 21.41c.39.39.9.59 1.41.59.51 0 1.02-.2 1.41-.59l7.78-7.78 2.81-2.81c.8-.78.8-2.07 0-2.86zM5.41 20L4 18.59l7.72-7.72 1.47 1.35L5.41 20z\"/>\n",
              "  </svg>\n",
              "      </button>\n",
              "      \n",
              "  <style>\n",
              "    .colab-df-container {\n",
              "      display:flex;\n",
              "      flex-wrap:wrap;\n",
              "      gap: 12px;\n",
              "    }\n",
              "\n",
              "    .colab-df-convert {\n",
              "      background-color: #E8F0FE;\n",
              "      border: none;\n",
              "      border-radius: 50%;\n",
              "      cursor: pointer;\n",
              "      display: none;\n",
              "      fill: #1967D2;\n",
              "      height: 32px;\n",
              "      padding: 0 0 0 0;\n",
              "      width: 32px;\n",
              "    }\n",
              "\n",
              "    .colab-df-convert:hover {\n",
              "      background-color: #E2EBFA;\n",
              "      box-shadow: 0px 1px 2px rgba(60, 64, 67, 0.3), 0px 1px 3px 1px rgba(60, 64, 67, 0.15);\n",
              "      fill: #174EA6;\n",
              "    }\n",
              "\n",
              "    [theme=dark] .colab-df-convert {\n",
              "      background-color: #3B4455;\n",
              "      fill: #D2E3FC;\n",
              "    }\n",
              "\n",
              "    [theme=dark] .colab-df-convert:hover {\n",
              "      background-color: #434B5C;\n",
              "      box-shadow: 0px 1px 3px 1px rgba(0, 0, 0, 0.15);\n",
              "      filter: drop-shadow(0px 1px 2px rgba(0, 0, 0, 0.3));\n",
              "      fill: #FFFFFF;\n",
              "    }\n",
              "  </style>\n",
              "\n",
              "      <script>\n",
              "        const buttonEl =\n",
              "          document.querySelector('#df-8f377a99-d1a2-4291-bcd7-fa1ef71f812a button.colab-df-convert');\n",
              "        buttonEl.style.display =\n",
              "          google.colab.kernel.accessAllowed ? 'block' : 'none';\n",
              "\n",
              "        async function convertToInteractive(key) {\n",
              "          const element = document.querySelector('#df-8f377a99-d1a2-4291-bcd7-fa1ef71f812a');\n",
              "          const dataTable =\n",
              "            await google.colab.kernel.invokeFunction('convertToInteractive',\n",
              "                                                     [key], {});\n",
              "          if (!dataTable) return;\n",
              "\n",
              "          const docLinkHtml = 'Like what you see? Visit the ' +\n",
              "            '<a target=\"_blank\" href=https://colab.research.google.com/notebooks/data_table.ipynb>data table notebook</a>'\n",
              "            + ' to learn more about interactive tables.';\n",
              "          element.innerHTML = '';\n",
              "          dataTable['output_type'] = 'display_data';\n",
              "          await google.colab.output.renderOutput(dataTable, element);\n",
              "          const docLink = document.createElement('div');\n",
              "          docLink.innerHTML = docLinkHtml;\n",
              "          element.appendChild(docLink);\n",
              "        }\n",
              "      </script>\n",
              "    </div>\n",
              "  </div>\n",
              "  "
            ]
          },
          "metadata": {},
          "execution_count": 4
        }
      ],
      "source": [
        "#import the dataset and display the first 5 observations\n",
        "df = wrangle('/content/gdrive/MyDrive/Data Science Projects/Polish_Companies_Bankrupcy_Prediction/2year.arff', 0)\n",
        "df.head()"
      ]
    },
    {
      "cell_type": "code",
      "execution_count": null,
      "metadata": {
        "colab": {
          "base_uri": "https://localhost:8080/",
          "height": 300
        },
        "id": "R2xudvn_I02y",
        "outputId": "c157fb57-2749-4de1-fd4e-50cfe7584d79"
      },
      "outputs": [
        {
          "output_type": "execute_result",
          "data": {
            "text/plain": [
              "      Attr1    Attr2     Attr3   Attr4   Attr5     Attr6    Attr7    Attr8  \\\n",
              "0  0.202350  0.46500  0.240380  1.5171 -14.547  0.510690  0.25366  0.91816   \n",
              "1  0.030073  0.59563  0.186680  1.3382 -37.859 -0.000319  0.04167  0.67890   \n",
              "2  0.257860  0.29949  0.665190  3.2211  71.799  0.000000  0.31877  2.33200   \n",
              "3  0.227160  0.67850  0.042784  1.0828 -88.212  0.000000  0.28505  0.47384   \n",
              "4  0.085443  0.38039  0.359230  1.9444  21.731  0.187900  0.10823  1.37140   \n",
              "\n",
              "     Attr9   Attr10  ...   Attr56    Attr57   Attr58   Attr59  Attr60  \\\n",
              "0  1.15190  0.42695  ...  0.13184  0.473950  0.86816  0.00024  8.5487   \n",
              "1  0.32356  0.40437  ...  0.12146  0.074369  0.87235  0.00000  1.5264   \n",
              "2  1.67620  0.69841  ...  0.16499  0.369210  0.81614  0.00000  4.3325   \n",
              "3  1.32410  0.32150  ...  0.29358  0.706570  0.78617  0.48456  5.2309   \n",
              "4  1.11260  0.52167  ...  0.10124  0.163790  0.89876  0.00000  5.7035   \n",
              "\n",
              "    Attr61   Attr62   Attr63   Attr64  Bankrupt  \n",
              "0  5.16550  107.740  3.38790   5.3440      b'0'  \n",
              "1  0.63305  622.660  0.58619   1.2381      b'0'  \n",
              "2  3.19850   65.215  5.59690  47.4660      b'0'  \n",
              "3  5.06750  142.460  2.56210   3.0066      b'0'  \n",
              "4  4.00200   89.058  4.09840   5.9874      b'0'  \n",
              "\n",
              "[5 rows x 65 columns]"
            ],
            "text/html": [
              "\n",
              "  <div id=\"df-ebbcf588-1411-496c-a102-84772acec5d0\">\n",
              "    <div class=\"colab-df-container\">\n",
              "      <div>\n",
              "<style scoped>\n",
              "    .dataframe tbody tr th:only-of-type {\n",
              "        vertical-align: middle;\n",
              "    }\n",
              "\n",
              "    .dataframe tbody tr th {\n",
              "        vertical-align: top;\n",
              "    }\n",
              "\n",
              "    .dataframe thead th {\n",
              "        text-align: right;\n",
              "    }\n",
              "</style>\n",
              "<table border=\"1\" class=\"dataframe\">\n",
              "  <thead>\n",
              "    <tr style=\"text-align: right;\">\n",
              "      <th></th>\n",
              "      <th>Attr1</th>\n",
              "      <th>Attr2</th>\n",
              "      <th>Attr3</th>\n",
              "      <th>Attr4</th>\n",
              "      <th>Attr5</th>\n",
              "      <th>Attr6</th>\n",
              "      <th>Attr7</th>\n",
              "      <th>Attr8</th>\n",
              "      <th>Attr9</th>\n",
              "      <th>Attr10</th>\n",
              "      <th>...</th>\n",
              "      <th>Attr56</th>\n",
              "      <th>Attr57</th>\n",
              "      <th>Attr58</th>\n",
              "      <th>Attr59</th>\n",
              "      <th>Attr60</th>\n",
              "      <th>Attr61</th>\n",
              "      <th>Attr62</th>\n",
              "      <th>Attr63</th>\n",
              "      <th>Attr64</th>\n",
              "      <th>Bankrupt</th>\n",
              "    </tr>\n",
              "  </thead>\n",
              "  <tbody>\n",
              "    <tr>\n",
              "      <th>0</th>\n",
              "      <td>0.202350</td>\n",
              "      <td>0.46500</td>\n",
              "      <td>0.240380</td>\n",
              "      <td>1.5171</td>\n",
              "      <td>-14.547</td>\n",
              "      <td>0.510690</td>\n",
              "      <td>0.25366</td>\n",
              "      <td>0.91816</td>\n",
              "      <td>1.15190</td>\n",
              "      <td>0.42695</td>\n",
              "      <td>...</td>\n",
              "      <td>0.13184</td>\n",
              "      <td>0.473950</td>\n",
              "      <td>0.86816</td>\n",
              "      <td>0.00024</td>\n",
              "      <td>8.5487</td>\n",
              "      <td>5.16550</td>\n",
              "      <td>107.740</td>\n",
              "      <td>3.38790</td>\n",
              "      <td>5.3440</td>\n",
              "      <td>b'0'</td>\n",
              "    </tr>\n",
              "    <tr>\n",
              "      <th>1</th>\n",
              "      <td>0.030073</td>\n",
              "      <td>0.59563</td>\n",
              "      <td>0.186680</td>\n",
              "      <td>1.3382</td>\n",
              "      <td>-37.859</td>\n",
              "      <td>-0.000319</td>\n",
              "      <td>0.04167</td>\n",
              "      <td>0.67890</td>\n",
              "      <td>0.32356</td>\n",
              "      <td>0.40437</td>\n",
              "      <td>...</td>\n",
              "      <td>0.12146</td>\n",
              "      <td>0.074369</td>\n",
              "      <td>0.87235</td>\n",
              "      <td>0.00000</td>\n",
              "      <td>1.5264</td>\n",
              "      <td>0.63305</td>\n",
              "      <td>622.660</td>\n",
              "      <td>0.58619</td>\n",
              "      <td>1.2381</td>\n",
              "      <td>b'0'</td>\n",
              "    </tr>\n",
              "    <tr>\n",
              "      <th>2</th>\n",
              "      <td>0.257860</td>\n",
              "      <td>0.29949</td>\n",
              "      <td>0.665190</td>\n",
              "      <td>3.2211</td>\n",
              "      <td>71.799</td>\n",
              "      <td>0.000000</td>\n",
              "      <td>0.31877</td>\n",
              "      <td>2.33200</td>\n",
              "      <td>1.67620</td>\n",
              "      <td>0.69841</td>\n",
              "      <td>...</td>\n",
              "      <td>0.16499</td>\n",
              "      <td>0.369210</td>\n",
              "      <td>0.81614</td>\n",
              "      <td>0.00000</td>\n",
              "      <td>4.3325</td>\n",
              "      <td>3.19850</td>\n",
              "      <td>65.215</td>\n",
              "      <td>5.59690</td>\n",
              "      <td>47.4660</td>\n",
              "      <td>b'0'</td>\n",
              "    </tr>\n",
              "    <tr>\n",
              "      <th>3</th>\n",
              "      <td>0.227160</td>\n",
              "      <td>0.67850</td>\n",
              "      <td>0.042784</td>\n",
              "      <td>1.0828</td>\n",
              "      <td>-88.212</td>\n",
              "      <td>0.000000</td>\n",
              "      <td>0.28505</td>\n",
              "      <td>0.47384</td>\n",
              "      <td>1.32410</td>\n",
              "      <td>0.32150</td>\n",
              "      <td>...</td>\n",
              "      <td>0.29358</td>\n",
              "      <td>0.706570</td>\n",
              "      <td>0.78617</td>\n",
              "      <td>0.48456</td>\n",
              "      <td>5.2309</td>\n",
              "      <td>5.06750</td>\n",
              "      <td>142.460</td>\n",
              "      <td>2.56210</td>\n",
              "      <td>3.0066</td>\n",
              "      <td>b'0'</td>\n",
              "    </tr>\n",
              "    <tr>\n",
              "      <th>4</th>\n",
              "      <td>0.085443</td>\n",
              "      <td>0.38039</td>\n",
              "      <td>0.359230</td>\n",
              "      <td>1.9444</td>\n",
              "      <td>21.731</td>\n",
              "      <td>0.187900</td>\n",
              "      <td>0.10823</td>\n",
              "      <td>1.37140</td>\n",
              "      <td>1.11260</td>\n",
              "      <td>0.52167</td>\n",
              "      <td>...</td>\n",
              "      <td>0.10124</td>\n",
              "      <td>0.163790</td>\n",
              "      <td>0.89876</td>\n",
              "      <td>0.00000</td>\n",
              "      <td>5.7035</td>\n",
              "      <td>4.00200</td>\n",
              "      <td>89.058</td>\n",
              "      <td>4.09840</td>\n",
              "      <td>5.9874</td>\n",
              "      <td>b'0'</td>\n",
              "    </tr>\n",
              "  </tbody>\n",
              "</table>\n",
              "<p>5 rows × 65 columns</p>\n",
              "</div>\n",
              "      <button class=\"colab-df-convert\" onclick=\"convertToInteractive('df-ebbcf588-1411-496c-a102-84772acec5d0')\"\n",
              "              title=\"Convert this dataframe to an interactive table.\"\n",
              "              style=\"display:none;\">\n",
              "        \n",
              "  <svg xmlns=\"http://www.w3.org/2000/svg\" height=\"24px\"viewBox=\"0 0 24 24\"\n",
              "       width=\"24px\">\n",
              "    <path d=\"M0 0h24v24H0V0z\" fill=\"none\"/>\n",
              "    <path d=\"M18.56 5.44l.94 2.06.94-2.06 2.06-.94-2.06-.94-.94-2.06-.94 2.06-2.06.94zm-11 1L8.5 8.5l.94-2.06 2.06-.94-2.06-.94L8.5 2.5l-.94 2.06-2.06.94zm10 10l.94 2.06.94-2.06 2.06-.94-2.06-.94-.94-2.06-.94 2.06-2.06.94z\"/><path d=\"M17.41 7.96l-1.37-1.37c-.4-.4-.92-.59-1.43-.59-.52 0-1.04.2-1.43.59L10.3 9.45l-7.72 7.72c-.78.78-.78 2.05 0 2.83L4 21.41c.39.39.9.59 1.41.59.51 0 1.02-.2 1.41-.59l7.78-7.78 2.81-2.81c.8-.78.8-2.07 0-2.86zM5.41 20L4 18.59l7.72-7.72 1.47 1.35L5.41 20z\"/>\n",
              "  </svg>\n",
              "      </button>\n",
              "      \n",
              "  <style>\n",
              "    .colab-df-container {\n",
              "      display:flex;\n",
              "      flex-wrap:wrap;\n",
              "      gap: 12px;\n",
              "    }\n",
              "\n",
              "    .colab-df-convert {\n",
              "      background-color: #E8F0FE;\n",
              "      border: none;\n",
              "      border-radius: 50%;\n",
              "      cursor: pointer;\n",
              "      display: none;\n",
              "      fill: #1967D2;\n",
              "      height: 32px;\n",
              "      padding: 0 0 0 0;\n",
              "      width: 32px;\n",
              "    }\n",
              "\n",
              "    .colab-df-convert:hover {\n",
              "      background-color: #E2EBFA;\n",
              "      box-shadow: 0px 1px 2px rgba(60, 64, 67, 0.3), 0px 1px 3px 1px rgba(60, 64, 67, 0.15);\n",
              "      fill: #174EA6;\n",
              "    }\n",
              "\n",
              "    [theme=dark] .colab-df-convert {\n",
              "      background-color: #3B4455;\n",
              "      fill: #D2E3FC;\n",
              "    }\n",
              "\n",
              "    [theme=dark] .colab-df-convert:hover {\n",
              "      background-color: #434B5C;\n",
              "      box-shadow: 0px 1px 3px 1px rgba(0, 0, 0, 0.15);\n",
              "      filter: drop-shadow(0px 1px 2px rgba(0, 0, 0, 0.3));\n",
              "      fill: #FFFFFF;\n",
              "    }\n",
              "  </style>\n",
              "\n",
              "      <script>\n",
              "        const buttonEl =\n",
              "          document.querySelector('#df-ebbcf588-1411-496c-a102-84772acec5d0 button.colab-df-convert');\n",
              "        buttonEl.style.display =\n",
              "          google.colab.kernel.accessAllowed ? 'block' : 'none';\n",
              "\n",
              "        async function convertToInteractive(key) {\n",
              "          const element = document.querySelector('#df-ebbcf588-1411-496c-a102-84772acec5d0');\n",
              "          const dataTable =\n",
              "            await google.colab.kernel.invokeFunction('convertToInteractive',\n",
              "                                                     [key], {});\n",
              "          if (!dataTable) return;\n",
              "\n",
              "          const docLinkHtml = 'Like what you see? Visit the ' +\n",
              "            '<a target=\"_blank\" href=https://colab.research.google.com/notebooks/data_table.ipynb>data table notebook</a>'\n",
              "            + ' to learn more about interactive tables.';\n",
              "          element.innerHTML = '';\n",
              "          dataTable['output_type'] = 'display_data';\n",
              "          await google.colab.output.renderOutput(dataTable, element);\n",
              "          const docLink = document.createElement('div');\n",
              "          docLink.innerHTML = docLinkHtml;\n",
              "          element.appendChild(docLink);\n",
              "        }\n",
              "      </script>\n",
              "    </div>\n",
              "  </div>\n",
              "  "
            ]
          },
          "metadata": {},
          "execution_count": 5
        }
      ],
      "source": [
        "#Rename target feature as  Bankrupt and display 1st 5 observations\n",
        "df.rename(columns = {'class':'Bankrupt'}, inplace = True)\n",
        "df.head()"
      ]
    },
    {
      "cell_type": "code",
      "execution_count": null,
      "metadata": {
        "colab": {
          "base_uri": "https://localhost:8080/"
        },
        "id": "B_UpgAciJBjW",
        "outputId": "2c7d2685-ef6e-4a68-f555-3a4a2bd159cd"
      },
      "outputs": [
        {
          "output_type": "stream",
          "name": "stdout",
          "text": [
            "<class 'pandas.core.frame.DataFrame'>\n",
            "RangeIndex: 10173 entries, 0 to 10172\n",
            "Data columns (total 65 columns):\n",
            " #   Column    Non-Null Count  Dtype  \n",
            "---  ------    --------------  -----  \n",
            " 0   Attr1     10172 non-null  float64\n",
            " 1   Attr2     10172 non-null  float64\n",
            " 2   Attr3     10172 non-null  float64\n",
            " 3   Attr4     10151 non-null  float64\n",
            " 4   Attr5     10149 non-null  float64\n",
            " 5   Attr6     10172 non-null  float64\n",
            " 6   Attr7     10172 non-null  float64\n",
            " 7   Attr8     10155 non-null  float64\n",
            " 8   Attr9     10169 non-null  float64\n",
            " 9   Attr10    10172 non-null  float64\n",
            " 10  Attr11    10172 non-null  float64\n",
            " 11  Attr12    10151 non-null  float64\n",
            " 12  Attr13    10110 non-null  float64\n",
            " 13  Attr14    10172 non-null  float64\n",
            " 14  Attr15    10161 non-null  float64\n",
            " 15  Attr16    10154 non-null  float64\n",
            " 16  Attr17    10155 non-null  float64\n",
            " 17  Attr18    10172 non-null  float64\n",
            " 18  Attr19    10109 non-null  float64\n",
            " 19  Attr20    10110 non-null  float64\n",
            " 20  Attr21    7009 non-null   float64\n",
            " 21  Attr22    10172 non-null  float64\n",
            " 22  Attr23    10110 non-null  float64\n",
            " 23  Attr24    9948 non-null   float64\n",
            " 24  Attr25    10172 non-null  float64\n",
            " 25  Attr26    10154 non-null  float64\n",
            " 26  Attr27    9467 non-null   float64\n",
            " 27  Attr28    9961 non-null   float64\n",
            " 28  Attr29    10172 non-null  float64\n",
            " 29  Attr30    10110 non-null  float64\n",
            " 30  Attr31    10110 non-null  float64\n",
            " 31  Attr32    10086 non-null  float64\n",
            " 32  Attr33    10151 non-null  float64\n",
            " 33  Attr34    10155 non-null  float64\n",
            " 34  Attr35    10172 non-null  float64\n",
            " 35  Attr36    10172 non-null  float64\n",
            " 36  Attr37    5655 non-null   float64\n",
            " 37  Attr38    10172 non-null  float64\n",
            " 38  Attr39    10110 non-null  float64\n",
            " 39  Attr40    10151 non-null  float64\n",
            " 40  Attr41    9976 non-null   float64\n",
            " 41  Attr42    10110 non-null  float64\n",
            " 42  Attr43    10110 non-null  float64\n",
            " 43  Attr44    10110 non-null  float64\n",
            " 44  Attr45    9632 non-null   float64\n",
            " 45  Attr46    10151 non-null  float64\n",
            " 46  Attr47    10099 non-null  float64\n",
            " 47  Attr48    10171 non-null  float64\n",
            " 48  Attr49    10110 non-null  float64\n",
            " 49  Attr50    10155 non-null  float64\n",
            " 50  Attr51    10172 non-null  float64\n",
            " 51  Attr52    10099 non-null  float64\n",
            " 52  Attr53    9961 non-null   float64\n",
            " 53  Attr54    9961 non-null   float64\n",
            " 54  Attr55    10172 non-null  float64\n",
            " 55  Attr56    10110 non-null  float64\n",
            " 56  Attr57    10171 non-null  float64\n",
            " 57  Attr58    10134 non-null  float64\n",
            " 58  Attr59    10171 non-null  float64\n",
            " 59  Attr60    9630 non-null   float64\n",
            " 60  Attr61    10157 non-null  float64\n",
            " 61  Attr62    10110 non-null  float64\n",
            " 62  Attr63    10151 non-null  float64\n",
            " 63  Attr64    9961 non-null   float64\n",
            " 64  Bankrupt  10173 non-null  object \n",
            "dtypes: float64(64), object(1)\n",
            "memory usage: 5.0+ MB\n"
          ]
        }
      ],
      "source": [
        "#display the datatype and the missing values of the dataset\n",
        "df.info()"
      ]
    },
    {
      "cell_type": "markdown",
      "metadata": {
        "id": "xvNLFTCZIUAK"
      },
      "source": [
        "Key things to observe from the above is that some of our dataset features have missing values and the only the labelled feature is of the type object(string). Other features are of the datatype float.In order to train this dataset with any algoritm, we need to fill the features with simpleimputers and convert the labelled feature to string"
      ]
    },
    {
      "cell_type": "code",
      "execution_count": null,
      "metadata": {
        "id": "8Fr8ukXtLoLh"
      },
      "outputs": [],
      "source": [
        "#Covert Bankrupt datatype from string to integer\n",
        "df['Bankrupt'] = df['Bankrupt'].astype(int)"
      ]
    },
    {
      "cell_type": "code",
      "execution_count": null,
      "metadata": {
        "colab": {
          "base_uri": "https://localhost:8080/"
        },
        "id": "hH7oKSRyJMzr",
        "outputId": "db64b5ca-9d29-48a2-998e-d91e8f8d8925"
      },
      "outputs": [
        {
          "output_type": "stream",
          "name": "stdout",
          "text": [
            "<class 'pandas.core.frame.DataFrame'>\n",
            "RangeIndex: 10173 entries, 0 to 10172\n",
            "Data columns (total 65 columns):\n",
            " #   Column    Non-Null Count  Dtype  \n",
            "---  ------    --------------  -----  \n",
            " 0   Attr1     10172 non-null  float64\n",
            " 1   Attr2     10172 non-null  float64\n",
            " 2   Attr3     10172 non-null  float64\n",
            " 3   Attr4     10151 non-null  float64\n",
            " 4   Attr5     10149 non-null  float64\n",
            " 5   Attr6     10172 non-null  float64\n",
            " 6   Attr7     10172 non-null  float64\n",
            " 7   Attr8     10155 non-null  float64\n",
            " 8   Attr9     10169 non-null  float64\n",
            " 9   Attr10    10172 non-null  float64\n",
            " 10  Attr11    10172 non-null  float64\n",
            " 11  Attr12    10151 non-null  float64\n",
            " 12  Attr13    10110 non-null  float64\n",
            " 13  Attr14    10172 non-null  float64\n",
            " 14  Attr15    10161 non-null  float64\n",
            " 15  Attr16    10154 non-null  float64\n",
            " 16  Attr17    10155 non-null  float64\n",
            " 17  Attr18    10172 non-null  float64\n",
            " 18  Attr19    10109 non-null  float64\n",
            " 19  Attr20    10110 non-null  float64\n",
            " 20  Attr21    7009 non-null   float64\n",
            " 21  Attr22    10172 non-null  float64\n",
            " 22  Attr23    10110 non-null  float64\n",
            " 23  Attr24    9948 non-null   float64\n",
            " 24  Attr25    10172 non-null  float64\n",
            " 25  Attr26    10154 non-null  float64\n",
            " 26  Attr27    9467 non-null   float64\n",
            " 27  Attr28    9961 non-null   float64\n",
            " 28  Attr29    10172 non-null  float64\n",
            " 29  Attr30    10110 non-null  float64\n",
            " 30  Attr31    10110 non-null  float64\n",
            " 31  Attr32    10086 non-null  float64\n",
            " 32  Attr33    10151 non-null  float64\n",
            " 33  Attr34    10155 non-null  float64\n",
            " 34  Attr35    10172 non-null  float64\n",
            " 35  Attr36    10172 non-null  float64\n",
            " 36  Attr37    5655 non-null   float64\n",
            " 37  Attr38    10172 non-null  float64\n",
            " 38  Attr39    10110 non-null  float64\n",
            " 39  Attr40    10151 non-null  float64\n",
            " 40  Attr41    9976 non-null   float64\n",
            " 41  Attr42    10110 non-null  float64\n",
            " 42  Attr43    10110 non-null  float64\n",
            " 43  Attr44    10110 non-null  float64\n",
            " 44  Attr45    9632 non-null   float64\n",
            " 45  Attr46    10151 non-null  float64\n",
            " 46  Attr47    10099 non-null  float64\n",
            " 47  Attr48    10171 non-null  float64\n",
            " 48  Attr49    10110 non-null  float64\n",
            " 49  Attr50    10155 non-null  float64\n",
            " 50  Attr51    10172 non-null  float64\n",
            " 51  Attr52    10099 non-null  float64\n",
            " 52  Attr53    9961 non-null   float64\n",
            " 53  Attr54    9961 non-null   float64\n",
            " 54  Attr55    10172 non-null  float64\n",
            " 55  Attr56    10110 non-null  float64\n",
            " 56  Attr57    10171 non-null  float64\n",
            " 57  Attr58    10134 non-null  float64\n",
            " 58  Attr59    10171 non-null  float64\n",
            " 59  Attr60    9630 non-null   float64\n",
            " 60  Attr61    10157 non-null  float64\n",
            " 61  Attr62    10110 non-null  float64\n",
            " 62  Attr63    10151 non-null  float64\n",
            " 63  Attr64    9961 non-null   float64\n",
            " 64  Bankrupt  10173 non-null  int64  \n",
            "dtypes: float64(64), int64(1)\n",
            "memory usage: 5.0 MB\n"
          ]
        }
      ],
      "source": [
        "df.info()"
      ]
    },
    {
      "cell_type": "markdown",
      "metadata": {
        "id": "fDzOoaHtFefL"
      },
      "source": [
        "# `Exploratory Data Analysis (EDA)`\n",
        "Univariate Analysis [Target Variable]"
      ]
    },
    {
      "cell_type": "code",
      "execution_count": null,
      "metadata": {
        "colab": {
          "base_uri": "https://localhost:8080/"
        },
        "id": "dxgEkATdOSeU",
        "outputId": "37230b43-9d00-4e1c-f5f3-a9d72442a661"
      },
      "outputs": [
        {
          "output_type": "execute_result",
          "data": {
            "text/plain": [
              "0    0.96068\n",
              "1    0.03932\n",
              "Name: Bankrupt, dtype: float64"
            ]
          },
          "metadata": {},
          "execution_count": 9
        }
      ],
      "source": [
        "#Count the value of the classes in the target feature and represent in percentage\n",
        "df['Bankrupt'].value_counts(normalize = True)"
      ]
    },
    {
      "cell_type": "code",
      "execution_count": null,
      "metadata": {
        "colab": {
          "base_uri": "https://localhost:8080/",
          "height": 309
        },
        "id": "A4LxAyg6EF_h",
        "outputId": "526292d2-fd15-4fa1-cf1f-7cb4a577d898"
      },
      "outputs": [
        {
          "output_type": "execute_result",
          "data": {
            "text/plain": [
              "<matplotlib.axes._subplots.AxesSubplot at 0x7f53fe755c40>"
            ]
          },
          "metadata": {},
          "execution_count": 10
        },
        {
          "output_type": "display_data",
          "data": {
            "text/plain": [
              "<Figure size 432x288 with 1 Axes>"
            ],
            "image/png": "[encoded data removed]"
          },
          "metadata": {
            "needs_background": "light"
          }
        }
      ],
      "source": [
        "#Represent the percentages of the classes in a vertical bar chart using pandas\n",
        "df['Bankrupt'].value_counts(normalize = True).plot(kind = \"bar\" , xlabel = \"class\" , ylabel = \"Class Frequency\" , title = \"Class Balance\")"
      ]
    },
    {
      "cell_type": "markdown",
      "metadata": {
        "id": "-mkipeWoNB-8"
      },
      "source": [
        "From the univariate analysis of the target variable, it was observed that more than 96% of the class is 0 while less than 4% of the class is 1.While 0 denotes no bakruptcy, 1 denotes bankruptcy. What this means is that majority of the class shows no bankruptcy while minoriy of the class shows  bankruptcy.Majority Class is negative class while minority class is positive class"
      ]
    },
    {
      "cell_type": "markdown",
      "metadata": {
        "id": "BRyqITAH9H8e"
      },
      "source": [
        "## `Bivariate Analysis of [Attr27] and target feature \"Bankrupt\"\n",
        "Distribution of the Attr27 feature. A normal distribution should not be skewed to either right or left.It should be a guassian or tends towards a guassian distribution\n"
      ]
    },
    {
      "cell_type": "code",
      "execution_count": null,
      "metadata": {
        "colab": {
          "base_uri": "https://localhost:8080/",
          "height": 295
        },
        "id": "2BtDR3KMMiet",
        "outputId": "4d1f6242-1f96-4346-cb31-4df263e9415e"
      },
      "outputs": [
        {
          "output_type": "display_data",
          "data": {
            "text/plain": [
              "<Figure size 432x288 with 1 Axes>"
            ],
            "image/png": "[encoded data removed]"
          },
          "metadata": {
            "needs_background": "light"
          }
        }
      ],
      "source": [
        "# Create boxplot with seaborn and matplotlib\n",
        "sns.boxplot(x = \"Bankrupt\" , y = \"Attr27\" , data = df)\n",
        "plt.xlabel(\"Bankrupt\")\n",
        "plt.ylabel(\"POA / financial expenses\")\n",
        "plt.title(\"Distribution of Profit/Expenses Ratio, by Class\");"
      ]
    },
    {
      "cell_type": "code",
      "execution_count": null,
      "metadata": {
        "colab": {
          "base_uri": "https://localhost:8080/"
        },
        "id": "MCRml66lMiiY",
        "outputId": "22014d09-4737-42e6-9c68-205302e8d79b"
      },
      "outputs": [
        {
          "output_type": "execute_result",
          "data": {
            "text/plain": [
              "count        9,467\n",
              "mean         1,243\n",
              "std         45,911\n",
              "min       -157,160\n",
              "25%              0\n",
              "50%              1\n",
              "75%              5\n",
              "max      4,208,800\n",
              "Name: Attr27, dtype: object"
            ]
          },
          "metadata": {},
          "execution_count": 12
        }
      ],
      "source": [
        "# Summary statistics for `feat_27`\n",
        "df[\"Attr27\"].describe().apply(\"{0:,.0f}\".format)"
      ]
    },
    {
      "cell_type": "code",
      "execution_count": null,
      "metadata": {
        "colab": {
          "base_uri": "https://localhost:8080/",
          "height": 295
        },
        "id": "0nVEGf-tMimf",
        "outputId": "7b72d860-d619-4102-e348-202b862f4912"
      },
      "outputs": [
        {
          "output_type": "display_data",
          "data": {
            "text/plain": [
              "<Figure size 432x288 with 1 Axes>"
            ],
            "image/png": "[encoded data removed]"
          },
          "metadata": {
            "needs_background": "light"
          }
        }
      ],
      "source": [
        "# Plot histogram of `Attr27`with matplotlib\n",
        "df[\"Attr27\"].hist()\n",
        "plt.xlabel(\"POA / financial expenses\")\n",
        "plt.ylabel(\"Count\"),\n",
        "plt.title(\"Distribution of Profit/Expenses Ratio\");"
      ]
    },
    {
      "cell_type": "markdown",
      "metadata": {
        "id": "gK39GWcFs3ei"
      },
      "source": [
        "Both Boxplot and Histogram show there are lots of outliers and the data in attr27 is skewed. To reduce the effect on the outlier and to reduce the skeweness so that the data tends towards the normal distribution, we need to quantize the data"
      ]
    },
    {
      "cell_type": "code",
      "execution_count": null,
      "metadata": {
        "colab": {
          "base_uri": "https://localhost:8080/"
        },
        "id": "JM4RzBClMirM",
        "outputId": "db06bbb9-9ba8-4852-81af-32e02e7f1f1c"
      },
      "outputs": [
        {
          "output_type": "execute_result",
          "data": {
            "text/plain": [
              "0     True\n",
              "1    False\n",
              "2    False\n",
              "3     True\n",
              "4     True\n",
              "Name: Attr27, dtype: bool"
            ]
          },
          "metadata": {},
          "execution_count": 14
        }
      ],
      "source": [
        "#Quantizing the data in Attr27\n",
        "q1, q9 = df[\"Attr27\"].quantile([0.1, 0.9])\n",
        "mask = df[\"Attr27\"].between(q1,q9)\n",
        "mask.head()"
      ]
    },
    {
      "cell_type": "code",
      "execution_count": null,
      "metadata": {
        "colab": {
          "base_uri": "https://localhost:8080/",
          "height": 295
        },
        "id": "Xh7x5X1CAppN",
        "outputId": "9149936a-46d3-419d-bf7c-ff06123c5e6e"
      },
      "outputs": [
        {
          "output_type": "display_data",
          "data": {
            "text/plain": [
              "<Figure size 432x288 with 1 Axes>"
            ],
            "image/png": "[encoded data removed]"
          },
          "metadata": {
            "needs_background": "light"
          }
        }
      ],
      "source": [
        "# Create clipped boxplot\n",
        "q1,q9 = df[\"Attr27\"].quantile([0.1, 0.9])\n",
        "mask = df[\"Attr27\"].between(q1,q9)\n",
        "sns.boxplot(x = \"Bankrupt\" , y = \"Attr27\" , data = df[mask])\n",
        "plt.xlabel(\"Bankrupt\")\n",
        "plt.ylabel(\"POA / financial expenses\")\n",
        "plt.title(\"Distribution of Profit/Expenses Ratio, by Bankruptcy Status\");"
      ]
    },
    {
      "cell_type": "markdown",
      "metadata": {
        "id": "49e0efmFBjky"
      },
      "source": [
        "## Univariate Analysis [Attr35] Numeric Feature Distribution\n",
        "A normal distribution should not be skewed to either right or left"
      ]
    },
    {
      "cell_type": "code",
      "execution_count": null,
      "metadata": {
        "colab": {
          "base_uri": "https://localhost:8080/",
          "height": 295
        },
        "id": "wmXcgyZeAp7O",
        "outputId": "fae0ac5b-d76b-4b98-d5a5-023d595f603c"
      },
      "outputs": [
        {
          "output_type": "display_data",
          "data": {
            "text/plain": [
              "<Figure size 432x288 with 1 Axes>"
            ],
            "image/png": "[encoded data removed]"
          },
          "metadata": {
            "needs_background": "light"
          }
        }
      ],
      "source": [
        "# Explore another feature\n",
        "# Create boxplot with seaborn and matplotlib\n",
        "sns.boxplot(x = \"Bankrupt\" , y = \"Attr35\" , data = df)\n",
        "plt.xlabel(\"Bankrupt\")\n",
        "plt.ylabel(\"profit on sales / total assets\")\n",
        "plt.title(\"Distribution of profit on sales / total assets Ratio, by Class\");"
      ]
    },
    {
      "cell_type": "code",
      "execution_count": null,
      "metadata": {
        "colab": {
          "base_uri": "https://localhost:8080/"
        },
        "id": "z-4FtSxRCK6T",
        "outputId": "6d84050e-35d5-4ca0-da8a-9840806bbf01"
      },
      "outputs": [
        {
          "output_type": "execute_result",
          "data": {
            "text/plain": [
              "count    10,172\n",
              "mean          0\n",
              "std           6\n",
              "min         -61\n",
              "25%           0\n",
              "50%           0\n",
              "75%           0\n",
              "max         627\n",
              "Name: Attr35, dtype: object"
            ]
          },
          "metadata": {},
          "execution_count": 17
        }
      ],
      "source": [
        "# Summary statistics for `Attr35`\n",
        "df[\"Attr35\"].describe().apply(\"{0:,.0f}\".format)"
      ]
    },
    {
      "cell_type": "code",
      "execution_count": null,
      "metadata": {
        "colab": {
          "base_uri": "https://localhost:8080/",
          "height": 295
        },
        "id": "HyW_g78bDFLV",
        "outputId": "47cf3583-3de8-4e61-f3bf-381ef30541ea"
      },
      "outputs": [
        {
          "output_type": "display_data",
          "data": {
            "text/plain": [
              "<Figure size 432x288 with 1 Axes>"
            ],
            "image/png": "[encoded data removed]"
          },
          "metadata": {
            "needs_background": "light"
          }
        }
      ],
      "source": [
        "# Plot histogram of `Attr35`with matplotlib\n",
        "df[\"Attr35\"].hist()\n",
        "plt.xlabel(\"profit on sales / total assets\")\n",
        "plt.ylabel(\"Count\"),\n",
        "plt.title(\"Distribution of profit on sales / total assets Ratio\");"
      ]
    },
    {
      "cell_type": "code",
      "execution_count": null,
      "metadata": {
        "colab": {
          "base_uri": "https://localhost:8080/"
        },
        "id": "z5Gl-wlKDFRH",
        "outputId": "0bb6cc26-7674-4b15-b998-cae668427058"
      },
      "outputs": [
        {
          "output_type": "execute_result",
          "data": {
            "text/plain": [
              "0     True\n",
              "1     True\n",
              "2     True\n",
              "3    False\n",
              "4     True\n",
              "Name: Attr35, dtype: bool"
            ]
          },
          "metadata": {},
          "execution_count": 19
        }
      ],
      "source": [
        "q1,q9 = df[\"Attr35\"].quantile([0.1, 0.9])\n",
        "mask = df[\"Attr35\"].between(q1,q9)\n",
        "mask.head()"
      ]
    },
    {
      "cell_type": "code",
      "execution_count": null,
      "metadata": {
        "colab": {
          "base_uri": "https://localhost:8080/",
          "height": 295
        },
        "id": "1UjZnklvDFbT",
        "outputId": "0b6d08ce-c9e7-4838-f7c3-69184694f92f"
      },
      "outputs": [
        {
          "output_type": "display_data",
          "data": {
            "text/plain": [
              "<Figure size 432x288 with 1 Axes>"
            ],
            "image/png": "[encoded data removed]"
          },
          "metadata": {
            "needs_background": "light"
          }
        }
      ],
      "source": [
        "# Create clipped boxplot\n",
        "q1,q9 = df[\"Attr35\"].quantile([0.1, 0.9])\n",
        "mask = df[\"Attr35\"].between(q1,q9)\n",
        "sns.boxplot(x = \"Bankrupt\" , y = \"Attr35\" , data = df[mask])\n",
        "plt.xlabel(\"Bankrupt\")\n",
        "plt.ylabel(\"profit on sales / total assets\")\n",
        "plt.title(\"Distribution of profit on sales / total assets Ratio\");"
      ]
    },
    {
      "cell_type": "markdown",
      "metadata": {
        "id": "_U933BtjDyWh"
      },
      "source": [
        "## Bivariate Analysis (Correlations among numeric features)\n",
        "Features which have high correlation against each other are not good predictors"
      ]
    },
    {
      "cell_type": "code",
      "execution_count": null,
      "metadata": {
        "colab": {
          "base_uri": "https://localhost:8080/",
          "height": 291
        },
        "id": "Cgd031LQDFh4",
        "outputId": "ca69ef05-5a35-4e94-d3d2-b90acf2b1532"
      },
      "outputs": [
        {
          "output_type": "display_data",
          "data": {
            "text/plain": [
              "<Figure size 432x288 with 2 Axes>"
            ],
            "image/png": "[encoded data removed]"
          },
          "metadata": {
            "needs_background": "light"
          }
        }
      ],
      "source": [
        "#Features correlation\n",
        "corr = df.drop(columns = \"Bankrupt\").corr()\n",
        "sns.heatmap(corr);"
      ]
    },
    {
      "cell_type": "markdown",
      "metadata": {
        "id": "cqmRQathF7-x"
      },
      "source": [
        "## EDA Inferences\n",
        "1. This data is imbalanced. It needs to be addressed in our data preparation.\n",
        "2. Many of the features have missing values that we'll need to impute.\n",
        "3. The features are highly skewed, the best imputation strategy is likely\n",
        "   median, not mean.\n",
        "4. The numeric features have autocorrelation issues, which means that we should\n",
        "   steer clear of linear models, and try a tree-based model instead."
      ]
    },
    {
      "cell_type": "markdown",
      "metadata": {
        "id": "q95nasQALOV0"
      },
      "source": [
        "# Feature Engineering\n",
        "Split Data into Train and Test Sets"
      ]
    },
    {
      "cell_type": "code",
      "execution_count": null,
      "metadata": {
        "colab": {
          "base_uri": "https://localhost:8080/"
        },
        "id": "H_WldotzDFlr",
        "outputId": "f4a2e962-41c6-4bfc-fa8e-a685a6198c4d"
      },
      "outputs": [
        {
          "output_type": "stream",
          "name": "stdout",
          "text": [
            "X shape: (10173, 64)\n",
            "y shape: (10173,)\n"
          ]
        }
      ],
      "source": [
        "#Create your feature matrix X and target vector y. Your target is \"Bankrupt\"\n",
        "target = \"Bankrupt\"\n",
        "X = df.drop(columns = target)\n",
        "y = df[target]\n",
        "\n",
        "print(\"X shape:\", X.shape)\n",
        "print(\"y shape:\", y.shape)"
      ]
    },
    {
      "cell_type": "code",
      "execution_count": null,
      "metadata": {
        "colab": {
          "base_uri": "https://localhost:8080/"
        },
        "id": "RwluIvyoOnU_",
        "outputId": "5782f3b0-72df-4a6f-c2c8-d49158b42f7c"
      },
      "outputs": [
        {
          "output_type": "stream",
          "name": "stdout",
          "text": [
            "X_train shape: (8138, 64)\n",
            "y_train shape: (8138,)\n",
            "X_test shape: (2035, 64)\n",
            "y_test shape: (2035,)\n"
          ]
        }
      ],
      "source": [
        "# To build a generalized model, we need to put aside a test set that we'll use to evaluate our model once it's trained.\n",
        "X_train, X_test, y_train, y_test = train_test_split(X, y, test_size=0.2, random_state=42)\n",
        "\n",
        "print(\"X_train shape:\", X_train.shape)\n",
        "print(\"y_train shape:\", y_train.shape)\n",
        "print(\"X_test shape:\", X_test.shape)\n",
        "print(\"y_test shape:\", y_test.shape)"
      ]
    },
    {
      "cell_type": "markdown",
      "metadata": {
        "id": "RaDc9e07Lm1l"
      },
      "source": [
        "**Resampling**\n",
        "This is necessay to address Class Imbalance"
      ]
    },
    {
      "cell_type": "code",
      "execution_count": null,
      "metadata": {
        "colab": {
          "base_uri": "https://localhost:8080/",
          "height": 317
        },
        "id": "nThgBAW2L93g",
        "outputId": "d72b2ff1-168e-4dd9-f806-f848fed5427e"
      },
      "outputs": [
        {
          "output_type": "stream",
          "name": "stdout",
          "text": [
            "(658, 64)\n"
          ]
        },
        {
          "output_type": "execute_result",
          "data": {
            "text/plain": [
              "      Attr1     Attr2     Attr3     Attr4   Attr5     Attr6     Attr7  \\\n",
              "0 -0.030605  0.784100 -0.021721   0.97062 -59.384  0.030761 -0.044389   \n",
              "1  0.305580  0.274000  0.388420   2.41760  47.014  0.728110  0.305700   \n",
              "2  0.144880  0.026375  0.905660  36.38900  63.781  0.000653  0.179290   \n",
              "3  0.161460  0.617080  0.355110   1.57550  17.713  0.268820  0.199980   \n",
              "4  0.252420  0.534390 -0.170570   0.59802 -83.977  0.735870  0.312190   \n",
              "\n",
              "      Attr8   Attr9   Attr10  ...    Attr55    Attr56   Attr57   Attr58  \\\n",
              "0   0.27534  1.0110  0.21590  ...   -3404.2  0.010863 -0.14176  0.98914   \n",
              "1   2.58510  1.1151  0.70833  ...   27148.0  0.103190  0.43141  0.89681   \n",
              "2  36.91500  3.4624  0.97363  ...    4662.4  0.049614  0.14881  0.94834   \n",
              "3   0.52354  1.1451  0.32306  ...   10987.0  0.126690  0.49977  0.87331   \n",
              "4   0.66391  1.2428  0.35478  ... -492830.0  0.195340  0.71149  0.80466   \n",
              "\n",
              "    Attr59   Attr60   Attr61    Attr62    Attr63   Attr64  \n",
              "0  0.20698   7.0330   3.3014  169.5500    2.1527   5.6385  \n",
              "1  0.00000  23.5400   5.3009   40.4540    9.0226   7.3234  \n",
              "2  0.00000  10.2630  15.3640    2.6978  135.3000  50.3620  \n",
              "3  0.00000   5.9491   4.0216  136.6700    2.6706  59.2650  \n",
              "4  0.31023  27.1090  13.9940   92.8610    3.9306   2.2350  \n",
              "\n",
              "[5 rows x 64 columns]"
            ],
            "text/html": [
              "\n",
              "  <div id=\"df-bb59b079-d7a5-4c6a-a409-962c866977d0\">\n",
              "    <div class=\"colab-df-container\">\n",
              "      <div>\n",
              "<style scoped>\n",
              "    .dataframe tbody tr th:only-of-type {\n",
              "        vertical-align: middle;\n",
              "    }\n",
              "\n",
              "    .dataframe tbody tr th {\n",
              "        vertical-align: top;\n",
              "    }\n",
              "\n",
              "    .dataframe thead th {\n",
              "        text-align: right;\n",
              "    }\n",
              "</style>\n",
              "<table border=\"1\" class=\"dataframe\">\n",
              "  <thead>\n",
              "    <tr style=\"text-align: right;\">\n",
              "      <th></th>\n",
              "      <th>Attr1</th>\n",
              "      <th>Attr2</th>\n",
              "      <th>Attr3</th>\n",
              "      <th>Attr4</th>\n",
              "      <th>Attr5</th>\n",
              "      <th>Attr6</th>\n",
              "      <th>Attr7</th>\n",
              "      <th>Attr8</th>\n",
              "      <th>Attr9</th>\n",
              "      <th>Attr10</th>\n",
              "      <th>...</th>\n",
              "      <th>Attr55</th>\n",
              "      <th>Attr56</th>\n",
              "      <th>Attr57</th>\n",
              "      <th>Attr58</th>\n",
              "      <th>Attr59</th>\n",
              "      <th>Attr60</th>\n",
              "      <th>Attr61</th>\n",
              "      <th>Attr62</th>\n",
              "      <th>Attr63</th>\n",
              "      <th>Attr64</th>\n",
              "    </tr>\n",
              "  </thead>\n",
              "  <tbody>\n",
              "    <tr>\n",
              "      <th>0</th>\n",
              "      <td>-0.030605</td>\n",
              "      <td>0.784100</td>\n",
              "      <td>-0.021721</td>\n",
              "      <td>0.97062</td>\n",
              "      <td>-59.384</td>\n",
              "      <td>0.030761</td>\n",
              "      <td>-0.044389</td>\n",
              "      <td>0.27534</td>\n",
              "      <td>1.0110</td>\n",
              "      <td>0.21590</td>\n",
              "      <td>...</td>\n",
              "      <td>-3404.2</td>\n",
              "      <td>0.010863</td>\n",
              "      <td>-0.14176</td>\n",
              "      <td>0.98914</td>\n",
              "      <td>0.20698</td>\n",
              "      <td>7.0330</td>\n",
              "      <td>3.3014</td>\n",
              "      <td>169.5500</td>\n",
              "      <td>2.1527</td>\n",
              "      <td>5.6385</td>\n",
              "    </tr>\n",
              "    <tr>\n",
              "      <th>1</th>\n",
              "      <td>0.305580</td>\n",
              "      <td>0.274000</td>\n",
              "      <td>0.388420</td>\n",
              "      <td>2.41760</td>\n",
              "      <td>47.014</td>\n",
              "      <td>0.728110</td>\n",
              "      <td>0.305700</td>\n",
              "      <td>2.58510</td>\n",
              "      <td>1.1151</td>\n",
              "      <td>0.70833</td>\n",
              "      <td>...</td>\n",
              "      <td>27148.0</td>\n",
              "      <td>0.103190</td>\n",
              "      <td>0.43141</td>\n",
              "      <td>0.89681</td>\n",
              "      <td>0.00000</td>\n",
              "      <td>23.5400</td>\n",
              "      <td>5.3009</td>\n",
              "      <td>40.4540</td>\n",
              "      <td>9.0226</td>\n",
              "      <td>7.3234</td>\n",
              "    </tr>\n",
              "    <tr>\n",
              "      <th>2</th>\n",
              "      <td>0.144880</td>\n",
              "      <td>0.026375</td>\n",
              "      <td>0.905660</td>\n",
              "      <td>36.38900</td>\n",
              "      <td>63.781</td>\n",
              "      <td>0.000653</td>\n",
              "      <td>0.179290</td>\n",
              "      <td>36.91500</td>\n",
              "      <td>3.4624</td>\n",
              "      <td>0.97363</td>\n",
              "      <td>...</td>\n",
              "      <td>4662.4</td>\n",
              "      <td>0.049614</td>\n",
              "      <td>0.14881</td>\n",
              "      <td>0.94834</td>\n",
              "      <td>0.00000</td>\n",
              "      <td>10.2630</td>\n",
              "      <td>15.3640</td>\n",
              "      <td>2.6978</td>\n",
              "      <td>135.3000</td>\n",
              "      <td>50.3620</td>\n",
              "    </tr>\n",
              "    <tr>\n",
              "      <th>3</th>\n",
              "      <td>0.161460</td>\n",
              "      <td>0.617080</td>\n",
              "      <td>0.355110</td>\n",
              "      <td>1.57550</td>\n",
              "      <td>17.713</td>\n",
              "      <td>0.268820</td>\n",
              "      <td>0.199980</td>\n",
              "      <td>0.52354</td>\n",
              "      <td>1.1451</td>\n",
              "      <td>0.32306</td>\n",
              "      <td>...</td>\n",
              "      <td>10987.0</td>\n",
              "      <td>0.126690</td>\n",
              "      <td>0.49977</td>\n",
              "      <td>0.87331</td>\n",
              "      <td>0.00000</td>\n",
              "      <td>5.9491</td>\n",
              "      <td>4.0216</td>\n",
              "      <td>136.6700</td>\n",
              "      <td>2.6706</td>\n",
              "      <td>59.2650</td>\n",
              "    </tr>\n",
              "    <tr>\n",
              "      <th>4</th>\n",
              "      <td>0.252420</td>\n",
              "      <td>0.534390</td>\n",
              "      <td>-0.170570</td>\n",
              "      <td>0.59802</td>\n",
              "      <td>-83.977</td>\n",
              "      <td>0.735870</td>\n",
              "      <td>0.312190</td>\n",
              "      <td>0.66391</td>\n",
              "      <td>1.2428</td>\n",
              "      <td>0.35478</td>\n",
              "      <td>...</td>\n",
              "      <td>-492830.0</td>\n",
              "      <td>0.195340</td>\n",
              "      <td>0.71149</td>\n",
              "      <td>0.80466</td>\n",
              "      <td>0.31023</td>\n",
              "      <td>27.1090</td>\n",
              "      <td>13.9940</td>\n",
              "      <td>92.8610</td>\n",
              "      <td>3.9306</td>\n",
              "      <td>2.2350</td>\n",
              "    </tr>\n",
              "  </tbody>\n",
              "</table>\n",
              "<p>5 rows × 64 columns</p>\n",
              "</div>\n",
              "      <button class=\"colab-df-convert\" onclick=\"convertToInteractive('df-bb59b079-d7a5-4c6a-a409-962c866977d0')\"\n",
              "              title=\"Convert this dataframe to an interactive table.\"\n",
              "              style=\"display:none;\">\n",
              "        \n",
              "  <svg xmlns=\"http://www.w3.org/2000/svg\" height=\"24px\"viewBox=\"0 0 24 24\"\n",
              "       width=\"24px\">\n",
              "    <path d=\"M0 0h24v24H0V0z\" fill=\"none\"/>\n",
              "    <path d=\"M18.56 5.44l.94 2.06.94-2.06 2.06-.94-2.06-.94-.94-2.06-.94 2.06-2.06.94zm-11 1L8.5 8.5l.94-2.06 2.06-.94-2.06-.94L8.5 2.5l-.94 2.06-2.06.94zm10 10l.94 2.06.94-2.06 2.06-.94-2.06-.94-.94-2.06-.94 2.06-2.06.94z\"/><path d=\"M17.41 7.96l-1.37-1.37c-.4-.4-.92-.59-1.43-.59-.52 0-1.04.2-1.43.59L10.3 9.45l-7.72 7.72c-.78.78-.78 2.05 0 2.83L4 21.41c.39.39.9.59 1.41.59.51 0 1.02-.2 1.41-.59l7.78-7.78 2.81-2.81c.8-.78.8-2.07 0-2.86zM5.41 20L4 18.59l7.72-7.72 1.47 1.35L5.41 20z\"/>\n",
              "  </svg>\n",
              "      </button>\n",
              "      \n",
              "  <style>\n",
              "    .colab-df-container {\n",
              "      display:flex;\n",
              "      flex-wrap:wrap;\n",
              "      gap: 12px;\n",
              "    }\n",
              "\n",
              "    .colab-df-convert {\n",
              "      background-color: #E8F0FE;\n",
              "      border: none;\n",
              "      border-radius: 50%;\n",
              "      cursor: pointer;\n",
              "      display: none;\n",
              "      fill: #1967D2;\n",
              "      height: 32px;\n",
              "      padding: 0 0 0 0;\n",
              "      width: 32px;\n",
              "    }\n",
              "\n",
              "    .colab-df-convert:hover {\n",
              "      background-color: #E2EBFA;\n",
              "      box-shadow: 0px 1px 2px rgba(60, 64, 67, 0.3), 0px 1px 3px 1px rgba(60, 64, 67, 0.15);\n",
              "      fill: #174EA6;\n",
              "    }\n",
              "\n",
              "    [theme=dark] .colab-df-convert {\n",
              "      background-color: #3B4455;\n",
              "      fill: #D2E3FC;\n",
              "    }\n",
              "\n",
              "    [theme=dark] .colab-df-convert:hover {\n",
              "      background-color: #434B5C;\n",
              "      box-shadow: 0px 1px 3px 1px rgba(0, 0, 0, 0.15);\n",
              "      filter: drop-shadow(0px 1px 2px rgba(0, 0, 0, 0.3));\n",
              "      fill: #FFFFFF;\n",
              "    }\n",
              "  </style>\n",
              "\n",
              "      <script>\n",
              "        const buttonEl =\n",
              "          document.querySelector('#df-bb59b079-d7a5-4c6a-a409-962c866977d0 button.colab-df-convert');\n",
              "        buttonEl.style.display =\n",
              "          google.colab.kernel.accessAllowed ? 'block' : 'none';\n",
              "\n",
              "        async function convertToInteractive(key) {\n",
              "          const element = document.querySelector('#df-bb59b079-d7a5-4c6a-a409-962c866977d0');\n",
              "          const dataTable =\n",
              "            await google.colab.kernel.invokeFunction('convertToInteractive',\n",
              "                                                     [key], {});\n",
              "          if (!dataTable) return;\n",
              "\n",
              "          const docLinkHtml = 'Like what you see? Visit the ' +\n",
              "            '<a target=\"_blank\" href=https://colab.research.google.com/notebooks/data_table.ipynb>data table notebook</a>'\n",
              "            + ' to learn more about interactive tables.';\n",
              "          element.innerHTML = '';\n",
              "          dataTable['output_type'] = 'display_data';\n",
              "          await google.colab.output.renderOutput(dataTable, element);\n",
              "          const docLink = document.createElement('div');\n",
              "          docLink.innerHTML = docLinkHtml;\n",
              "          element.appendChild(docLink);\n",
              "        }\n",
              "      </script>\n",
              "    </div>\n",
              "  </div>\n",
              "  "
            ]
          },
          "metadata": {},
          "execution_count": 24
        }
      ],
      "source": [
        "#Resample the training data\n",
        "#UnderSampling\n",
        "under_sampler = RandomUnderSampler(random_state=42)\n",
        "X_train_under, y_train_under = under_sampler.fit_resample(X_train, y_train)\n",
        "print(X_train_under.shape)\n",
        "X_train_under.head()"
      ]
    },
    {
      "cell_type": "code",
      "execution_count": null,
      "metadata": {
        "colab": {
          "base_uri": "https://localhost:8080/"
        },
        "id": "8It1bv3MPU3B",
        "outputId": "7349e8e7-cc0c-4774-e45a-0bcb437c8b3e"
      },
      "outputs": [
        {
          "output_type": "execute_result",
          "data": {
            "text/plain": [
              "0    0.5\n",
              "1    0.5\n",
              "Name: Bankrupt, dtype: float64"
            ]
          },
          "metadata": {},
          "execution_count": 25
        }
      ],
      "source": [
        "#check if the undersampling was correct\n",
        "y_train_under.value_counts(normalize = True)"
      ]
    },
    {
      "cell_type": "code",
      "execution_count": null,
      "metadata": {
        "colab": {
          "base_uri": "https://localhost:8080/",
          "height": 317
        },
        "id": "_NwXm7UnPVMw",
        "outputId": "0d80963f-42fc-498b-d755-9620189125fe"
      },
      "outputs": [
        {
          "output_type": "stream",
          "name": "stdout",
          "text": [
            "(15618, 64)\n"
          ]
        },
        {
          "output_type": "execute_result",
          "data": {
            "text/plain": [
              "      Attr1    Attr2     Attr3    Attr4   Attr5     Attr6     Attr7    Attr8  \\\n",
              "0 -0.192570  0.35227  0.510510  2.47700  26.790 -0.204360 -0.192570  1.83870   \n",
              "1  0.049627  0.57736  0.068764  1.34300  13.889  0.356470  0.056439  0.73202   \n",
              "2  0.041653  0.69981  0.105580  1.15400 -67.647 -0.244890  0.041653  0.42896   \n",
              "3  0.072353  0.41568 -0.069933  0.79088 -19.469  0.156670  0.072353  1.21350   \n",
              "4  0.030057  0.89885  0.076174  1.08640 -54.415 -0.000038  0.035324  0.11254   \n",
              "\n",
              "    Attr9   Attr10  ...   Attr55    Attr56   Attr57   Attr58    Attr59  \\\n",
              "0  1.5966  0.64773  ...  9240.60 -0.229590 -0.29730  1.10780  0.000000   \n",
              "1  1.3626  0.42264  ...   212.00  0.029517  0.11742  0.95991  0.574060   \n",
              "2  2.5568  0.30019  ...   908.47  0.329970  0.13876  0.67228  0.008447   \n",
              "3  1.0147  0.50441  ... -1376.90  0.014466  0.14344  0.98553  0.161110   \n",
              "4  2.4688  0.10115  ...   359.88  0.038305  0.29714  0.98572  0.117300   \n",
              "\n",
              "    Attr60   Attr61   Attr62   Attr63   Attr64  \n",
              "0   4.3649   4.4739   79.015   4.6194  11.0980  \n",
              "1  76.3820   5.5716   53.694   6.7977   1.8646  \n",
              "2   7.7514   6.7573   97.898   3.7284  12.2530  \n",
              "3  31.8390  24.6310   34.355  10.6240   4.8305  \n",
              "4   5.7059   4.7257  130.290   2.8014  57.9880  \n",
              "\n",
              "[5 rows x 64 columns]"
            ],
            "text/html": [
              "\n",
              "  <div id=\"df-9d63289a-f99a-45bc-8b56-26b25dbe3ba8\">\n",
              "    <div class=\"colab-df-container\">\n",
              "      <div>\n",
              "<style scoped>\n",
              "    .dataframe tbody tr th:only-of-type {\n",
              "        vertical-align: middle;\n",
              "    }\n",
              "\n",
              "    .dataframe tbody tr th {\n",
              "        vertical-align: top;\n",
              "    }\n",
              "\n",
              "    .dataframe thead th {\n",
              "        text-align: right;\n",
              "    }\n",
              "</style>\n",
              "<table border=\"1\" class=\"dataframe\">\n",
              "  <thead>\n",
              "    <tr style=\"text-align: right;\">\n",
              "      <th></th>\n",
              "      <th>Attr1</th>\n",
              "      <th>Attr2</th>\n",
              "      <th>Attr3</th>\n",
              "      <th>Attr4</th>\n",
              "      <th>Attr5</th>\n",
              "      <th>Attr6</th>\n",
              "      <th>Attr7</th>\n",
              "      <th>Attr8</th>\n",
              "      <th>Attr9</th>\n",
              "      <th>Attr10</th>\n",
              "      <th>...</th>\n",
              "      <th>Attr55</th>\n",
              "      <th>Attr56</th>\n",
              "      <th>Attr57</th>\n",
              "      <th>Attr58</th>\n",
              "      <th>Attr59</th>\n",
              "      <th>Attr60</th>\n",
              "      <th>Attr61</th>\n",
              "      <th>Attr62</th>\n",
              "      <th>Attr63</th>\n",
              "      <th>Attr64</th>\n",
              "    </tr>\n",
              "  </thead>\n",
              "  <tbody>\n",
              "    <tr>\n",
              "      <th>0</th>\n",
              "      <td>-0.192570</td>\n",
              "      <td>0.35227</td>\n",
              "      <td>0.510510</td>\n",
              "      <td>2.47700</td>\n",
              "      <td>26.790</td>\n",
              "      <td>-0.204360</td>\n",
              "      <td>-0.192570</td>\n",
              "      <td>1.83870</td>\n",
              "      <td>1.5966</td>\n",
              "      <td>0.64773</td>\n",
              "      <td>...</td>\n",
              "      <td>9240.60</td>\n",
              "      <td>-0.229590</td>\n",
              "      <td>-0.29730</td>\n",
              "      <td>1.10780</td>\n",
              "      <td>0.000000</td>\n",
              "      <td>4.3649</td>\n",
              "      <td>4.4739</td>\n",
              "      <td>79.015</td>\n",
              "      <td>4.6194</td>\n",
              "      <td>11.0980</td>\n",
              "    </tr>\n",
              "    <tr>\n",
              "      <th>1</th>\n",
              "      <td>0.049627</td>\n",
              "      <td>0.57736</td>\n",
              "      <td>0.068764</td>\n",
              "      <td>1.34300</td>\n",
              "      <td>13.889</td>\n",
              "      <td>0.356470</td>\n",
              "      <td>0.056439</td>\n",
              "      <td>0.73202</td>\n",
              "      <td>1.3626</td>\n",
              "      <td>0.42264</td>\n",
              "      <td>...</td>\n",
              "      <td>212.00</td>\n",
              "      <td>0.029517</td>\n",
              "      <td>0.11742</td>\n",
              "      <td>0.95991</td>\n",
              "      <td>0.574060</td>\n",
              "      <td>76.3820</td>\n",
              "      <td>5.5716</td>\n",
              "      <td>53.694</td>\n",
              "      <td>6.7977</td>\n",
              "      <td>1.8646</td>\n",
              "    </tr>\n",
              "    <tr>\n",
              "      <th>2</th>\n",
              "      <td>0.041653</td>\n",
              "      <td>0.69981</td>\n",
              "      <td>0.105580</td>\n",
              "      <td>1.15400</td>\n",
              "      <td>-67.647</td>\n",
              "      <td>-0.244890</td>\n",
              "      <td>0.041653</td>\n",
              "      <td>0.42896</td>\n",
              "      <td>2.5568</td>\n",
              "      <td>0.30019</td>\n",
              "      <td>...</td>\n",
              "      <td>908.47</td>\n",
              "      <td>0.329970</td>\n",
              "      <td>0.13876</td>\n",
              "      <td>0.67228</td>\n",
              "      <td>0.008447</td>\n",
              "      <td>7.7514</td>\n",
              "      <td>6.7573</td>\n",
              "      <td>97.898</td>\n",
              "      <td>3.7284</td>\n",
              "      <td>12.2530</td>\n",
              "    </tr>\n",
              "    <tr>\n",
              "      <th>3</th>\n",
              "      <td>0.072353</td>\n",
              "      <td>0.41568</td>\n",
              "      <td>-0.069933</td>\n",
              "      <td>0.79088</td>\n",
              "      <td>-19.469</td>\n",
              "      <td>0.156670</td>\n",
              "      <td>0.072353</td>\n",
              "      <td>1.21350</td>\n",
              "      <td>1.0147</td>\n",
              "      <td>0.50441</td>\n",
              "      <td>...</td>\n",
              "      <td>-1376.90</td>\n",
              "      <td>0.014466</td>\n",
              "      <td>0.14344</td>\n",
              "      <td>0.98553</td>\n",
              "      <td>0.161110</td>\n",
              "      <td>31.8390</td>\n",
              "      <td>24.6310</td>\n",
              "      <td>34.355</td>\n",
              "      <td>10.6240</td>\n",
              "      <td>4.8305</td>\n",
              "    </tr>\n",
              "    <tr>\n",
              "      <th>4</th>\n",
              "      <td>0.030057</td>\n",
              "      <td>0.89885</td>\n",
              "      <td>0.076174</td>\n",
              "      <td>1.08640</td>\n",
              "      <td>-54.415</td>\n",
              "      <td>-0.000038</td>\n",
              "      <td>0.035324</td>\n",
              "      <td>0.11254</td>\n",
              "      <td>2.4688</td>\n",
              "      <td>0.10115</td>\n",
              "      <td>...</td>\n",
              "      <td>359.88</td>\n",
              "      <td>0.038305</td>\n",
              "      <td>0.29714</td>\n",
              "      <td>0.98572</td>\n",
              "      <td>0.117300</td>\n",
              "      <td>5.7059</td>\n",
              "      <td>4.7257</td>\n",
              "      <td>130.290</td>\n",
              "      <td>2.8014</td>\n",
              "      <td>57.9880</td>\n",
              "    </tr>\n",
              "  </tbody>\n",
              "</table>\n",
              "<p>5 rows × 64 columns</p>\n",
              "</div>\n",
              "      <button class=\"colab-df-convert\" onclick=\"convertToInteractive('df-9d63289a-f99a-45bc-8b56-26b25dbe3ba8')\"\n",
              "              title=\"Convert this dataframe to an interactive table.\"\n",
              "              style=\"display:none;\">\n",
              "        \n",
              "  <svg xmlns=\"http://www.w3.org/2000/svg\" height=\"24px\"viewBox=\"0 0 24 24\"\n",
              "       width=\"24px\">\n",
              "    <path d=\"M0 0h24v24H0V0z\" fill=\"none\"/>\n",
              "    <path d=\"M18.56 5.44l.94 2.06.94-2.06 2.06-.94-2.06-.94-.94-2.06-.94 2.06-2.06.94zm-11 1L8.5 8.5l.94-2.06 2.06-.94-2.06-.94L8.5 2.5l-.94 2.06-2.06.94zm10 10l.94 2.06.94-2.06 2.06-.94-2.06-.94-.94-2.06-.94 2.06-2.06.94z\"/><path d=\"M17.41 7.96l-1.37-1.37c-.4-.4-.92-.59-1.43-.59-.52 0-1.04.2-1.43.59L10.3 9.45l-7.72 7.72c-.78.78-.78 2.05 0 2.83L4 21.41c.39.39.9.59 1.41.59.51 0 1.02-.2 1.41-.59l7.78-7.78 2.81-2.81c.8-.78.8-2.07 0-2.86zM5.41 20L4 18.59l7.72-7.72 1.47 1.35L5.41 20z\"/>\n",
              "  </svg>\n",
              "      </button>\n",
              "      \n",
              "  <style>\n",
              "    .colab-df-container {\n",
              "      display:flex;\n",
              "      flex-wrap:wrap;\n",
              "      gap: 12px;\n",
              "    }\n",
              "\n",
              "    .colab-df-convert {\n",
              "      background-color: #E8F0FE;\n",
              "      border: none;\n",
              "      border-radius: 50%;\n",
              "      cursor: pointer;\n",
              "      display: none;\n",
              "      fill: #1967D2;\n",
              "      height: 32px;\n",
              "      padding: 0 0 0 0;\n",
              "      width: 32px;\n",
              "    }\n",
              "\n",
              "    .colab-df-convert:hover {\n",
              "      background-color: #E2EBFA;\n",
              "      box-shadow: 0px 1px 2px rgba(60, 64, 67, 0.3), 0px 1px 3px 1px rgba(60, 64, 67, 0.15);\n",
              "      fill: #174EA6;\n",
              "    }\n",
              "\n",
              "    [theme=dark] .colab-df-convert {\n",
              "      background-color: #3B4455;\n",
              "      fill: #D2E3FC;\n",
              "    }\n",
              "\n",
              "    [theme=dark] .colab-df-convert:hover {\n",
              "      background-color: #434B5C;\n",
              "      box-shadow: 0px 1px 3px 1px rgba(0, 0, 0, 0.15);\n",
              "      filter: drop-shadow(0px 1px 2px rgba(0, 0, 0, 0.3));\n",
              "      fill: #FFFFFF;\n",
              "    }\n",
              "  </style>\n",
              "\n",
              "      <script>\n",
              "        const buttonEl =\n",
              "          document.querySelector('#df-9d63289a-f99a-45bc-8b56-26b25dbe3ba8 button.colab-df-convert');\n",
              "        buttonEl.style.display =\n",
              "          google.colab.kernel.accessAllowed ? 'block' : 'none';\n",
              "\n",
              "        async function convertToInteractive(key) {\n",
              "          const element = document.querySelector('#df-9d63289a-f99a-45bc-8b56-26b25dbe3ba8');\n",
              "          const dataTable =\n",
              "            await google.colab.kernel.invokeFunction('convertToInteractive',\n",
              "                                                     [key], {});\n",
              "          if (!dataTable) return;\n",
              "\n",
              "          const docLinkHtml = 'Like what you see? Visit the ' +\n",
              "            '<a target=\"_blank\" href=https://colab.research.google.com/notebooks/data_table.ipynb>data table notebook</a>'\n",
              "            + ' to learn more about interactive tables.';\n",
              "          element.innerHTML = '';\n",
              "          dataTable['output_type'] = 'display_data';\n",
              "          await google.colab.output.renderOutput(dataTable, element);\n",
              "          const docLink = document.createElement('div');\n",
              "          docLink.innerHTML = docLinkHtml;\n",
              "          element.appendChild(docLink);\n",
              "        }\n",
              "      </script>\n",
              "    </div>\n",
              "  </div>\n",
              "  "
            ]
          },
          "metadata": {},
          "execution_count": 26
        }
      ],
      "source": [
        "#Resample the training data\n",
        "#OverSampling\n",
        "over_sampler = RandomOverSampler(random_state=42)\n",
        "X_train_over, y_train_over = over_sampler.fit_resample(X_train, y_train)\n",
        "print(X_train_over.shape)\n",
        "X_train_over.head()"
      ]
    },
    {
      "cell_type": "code",
      "execution_count": null,
      "metadata": {
        "colab": {
          "base_uri": "https://localhost:8080/"
        },
        "id": "edzV6suBRE5G",
        "outputId": "b9b893f9-c7c3-4268-a37c-f7b4bd0a7504"
      },
      "outputs": [
        {
          "output_type": "execute_result",
          "data": {
            "text/plain": [
              "0    0.5\n",
              "1    0.5\n",
              "Name: Bankrupt, dtype: float64"
            ]
          },
          "metadata": {},
          "execution_count": 27
        }
      ],
      "source": [
        "#check if the oversampling was correct\n",
        "y_train_over.value_counts(normalize = True)"
      ]
    },
    {
      "cell_type": "markdown",
      "metadata": {
        "id": "EpSy8-aYRyWF"
      },
      "source": [
        "# **Modelling (Decision Tree Algorithm)**\n",
        "## **Baseline**\n",
        "Baseline accurate set a value in which the accuracy of our model must be.For data with imbalaced dataset, accuracy can not be used to judged model performance because majority classes outweighed the minority classes"
      ]
    },
    {
      "cell_type": "code",
      "execution_count": null,
      "metadata": {
        "colab": {
          "base_uri": "https://localhost:8080/"
        },
        "id": "1iCq5mkGRKWW",
        "outputId": "9649677a-2a5d-4082-8a02-5684892cf7eb"
      },
      "outputs": [
        {
          "output_type": "stream",
          "name": "stdout",
          "text": [
            "Baseline Accuracy: 0.9596\n"
          ]
        }
      ],
      "source": [
        "#Baseling showing 95% belongs to a negative class\n",
        "acc_baseline = y_train.value_counts(normalize=True).max()\n",
        "print(\"Baseline Accuracy:\", round(acc_baseline, 4))"
      ]
    },
    {
      "cell_type": "markdown",
      "metadata": {
        "id": "fOhKEMZ6VuUM"
      },
      "source": [
        "## **Build Model**\n",
        "In order to build a model, we need to create a pipeline that contains the simple imputer that neuralizes the effect of missing values and an algorithm to train our model"
      ]
    },
    {
      "cell_type": "code",
      "execution_count": null,
      "metadata": {
        "colab": {
          "base_uri": "https://localhost:8080/"
        },
        "id": "ofAkiTb6RKq-",
        "outputId": "55ec31a9-40ab-4bf5-8f45-38fc53135c08"
      },
      "outputs": [
        {
          "output_type": "execute_result",
          "data": {
            "text/plain": [
              "Pipeline(steps=[('simpleimputer', SimpleImputer(strategy='median')),\n",
              "                ('decisiontreeclassifier',\n",
              "                 DecisionTreeClassifier(random_state=42))])"
            ]
          },
          "metadata": {},
          "execution_count": 29
        }
      ],
      "source": [
        "#Creates a pipeline`\n",
        "model_decision = make_pipeline(SimpleImputer(strategy=\"median\"), DecisionTreeClassifier(random_state = 42))\n",
        "# Fit on `X_train`, `y_train\n",
        "model_decision.fit(X_train, y_train)\n",
        "\n",
        "#Create a pipeline for a model to train undersampled dataset\n",
        "model_under_decision = make_pipeline(SimpleImputer(strategy=\"median\"), DecisionTreeClassifier(random_state = 42))\n",
        "\n",
        "# Fit on `X_train_under`, `y_train_under`\n",
        "model_under_decision.fit(X_train_under, y_train_under)\n",
        "\n",
        "\n",
        "#Create a pipeline for a model to train oversampled dataset\n",
        "model_over_decision = make_pipeline(SimpleImputer(strategy=\"median\"), DecisionTreeClassifier(random_state = 42))\n",
        "# Fit on `X_train_over`, `y_train_over`\n",
        "model_over_decision.fit(X_train_over, y_train_over)"
      ]
    },
    {
      "cell_type": "markdown",
      "metadata": {
        "id": "Po_E95DRW7qa"
      },
      "source": [
        "## **Evaluate Model**\n",
        "## Accuracy Score"
      ]
    },
    {
      "cell_type": "code",
      "execution_count": null,
      "metadata": {
        "colab": {
          "base_uri": "https://localhost:8080/"
        },
        "id": "eKSxd0VKVeAt",
        "outputId": "cb380c85-c248-4c8f-a779-944943246630"
      },
      "outputs": [
        {
          "output_type": "stream",
          "name": "stdout",
          "text": [
            "Training Accuracy: 1.0\n",
            "Test Accuracy: 0.9469\n",
            "Training Accuracy: 0.6924\n",
            "Test Accuracy: 0.6934\n",
            "Training Accuracy: 1.0\n",
            "Test Accuracy: 0.9641\n"
          ]
        }
      ],
      "source": [
        "for m in [model_decision, model_under_decision, model_over_decision]:\n",
        "    acc_train = m.score(X_train, y_train)\n",
        "    acc_test = m.score(X_test, y_test)\n",
        "\n",
        "    print(\"Training Accuracy:\", round(acc_train, 4))\n",
        "    print(\"Test Accuracy:\", round(acc_test, 4))"
      ]
    },
    {
      "cell_type": "markdown",
      "metadata": {
        "id": "cjoG5CHCukSt"
      },
      "source": [
        "The results above shows oversampling yields better accuracy than undersampling for the dataset being worked on.Therefore, we will use oversampling for other models"
      ]
    },
    {
      "cell_type": "markdown",
      "metadata": {
        "id": "R5kngD1DaZU4"
      },
      "source": [
        "## Confusion Matrix"
      ]
    },
    {
      "cell_type": "code",
      "execution_count": null,
      "metadata": {
        "colab": {
          "base_uri": "https://localhost:8080/",
          "height": 279
        },
        "id": "FRH2_sg2RK9L",
        "outputId": "999617c2-19eb-41ab-abac-8e31911782b3"
      },
      "outputs": [
        {
          "output_type": "display_data",
          "data": {
            "text/plain": [
              "<Figure size 432x288 with 2 Axes>"
            ],
            "image/png": "[encoded data removed]"
          },
          "metadata": {
            "needs_background": "light"
          }
        }
      ],
      "source": [
        "# Plot confusion matrix\n",
        "ConfusionMatrixDisplay.from_estimator(model_decision, X_test, y_test);"
      ]
    },
    {
      "cell_type": "code",
      "execution_count": null,
      "metadata": {
        "colab": {
          "base_uri": "https://localhost:8080/"
        },
        "id": "NpCfh1t0bqu1",
        "outputId": "f56a525a-ee1b-47e3-9913-239379b5b921"
      },
      "outputs": [
        {
          "output_type": "stream",
          "name": "stdout",
          "text": [
            "29\n"
          ]
        }
      ],
      "source": [
        "depth = model_over_decision.named_steps[\"decisiontreeclassifier\"].get_depth()\n",
        "print(depth)"
      ]
    },
    {
      "cell_type": "markdown",
      "metadata": {
        "id": "bN1syk03cK4b"
      },
      "source": [
        "# **Communicate Results**"
      ]
    },
    {
      "cell_type": "code",
      "execution_count": null,
      "metadata": {
        "colab": {
          "base_uri": "https://localhost:8080/",
          "height": 295
        },
        "id": "ef_20Tv8cRn8",
        "outputId": "62274e1b-3a8d-4aaf-ced2-72168bcf565c"
      },
      "outputs": [
        {
          "output_type": "display_data",
          "data": {
            "text/plain": [
              "<Figure size 432x288 with 1 Axes>"
            ],
            "image/png": "[encoded data removed]"
          },
          "metadata": {
            "needs_background": "light"
          }
        }
      ],
      "source": [
        "# Get importances\n",
        "importances = model_over_decision.named_steps[\"decisiontreeclassifier\"].feature_importances_\n",
        "\n",
        "# Put importances into a Series\n",
        "feat_imp = pd.Series(importances, index=X_train_over.columns).sort_values()\n",
        "\n",
        "# Plot series\n",
        "feat_imp.tail(15).plot(kind=\"barh\")\n",
        "plt.xlabel(\"Gini Importance\")\n",
        "plt.ylabel(\"Feature\")\n",
        "plt.title(\"model_over Feature Importance\");"
      ]
    },
    {
      "cell_type": "code",
      "execution_count": null,
      "metadata": {
        "colab": {
          "base_uri": "https://localhost:8080/",
          "height": 295
        },
        "id": "zpBU4F2xdisi",
        "outputId": "8a6baef8-646e-4f86-daf4-967fc1387645"
      },
      "outputs": [
        {
          "output_type": "display_data",
          "data": {
            "text/plain": [
              "<Figure size 432x288 with 1 Axes>"
            ],
            "image/png": "[encoded data removed]"
          },
          "metadata": {
            "needs_background": "light"
          }
        }
      ],
      "source": [
        "# Get importances\n",
        "importances = model_over_decision.named_steps[\"decisiontreeclassifier\"].feature_importances_\n",
        "\n",
        "# Put importances into a Series\n",
        "feat_imp = pd.Series(importances, index=X_train_over.columns).sort_values()\n",
        "\n",
        "# Plot series\n",
        "feat_imp.head(15).plot(kind=\"barh\")\n",
        "plt.xlabel(\"Gini Importance\")\n",
        "plt.ylabel(\"Feature\")\n",
        "plt.title(\"model_over Feature Importance\");"
      ]
    },
    {
      "cell_type": "code",
      "execution_count": null,
      "metadata": {
        "id": "sH-Su2tFcR9L"
      },
      "outputs": [],
      "source": [
        "# Save your model as `\"model__decision\"`\n",
        "with open(\"model_decision_file\" , \"wb\") as f:\n",
        "    pk.dump(model_over_decision, f)"
      ]
    },
    {
      "cell_type": "code",
      "execution_count": null,
      "metadata": {
        "colab": {
          "base_uri": "https://localhost:8080/"
        },
        "id": "NR5EU5dYgIcH",
        "outputId": "5d9d0e5b-1286-429d-c1f9-7e73025edf59"
      },
      "outputs": [
        {
          "output_type": "stream",
          "name": "stdout",
          "text": [
            "Pipeline(steps=[('simpleimputer', SimpleImputer(strategy='median')),\n",
            "                ('decisiontreeclassifier',\n",
            "                 DecisionTreeClassifier(random_state=42))])\n"
          ]
        }
      ],
      "source": [
        "# Load `\"model_decision.pkl\"`\n",
        "with open(\"model_decision_file\" , \"rb\") as f:\n",
        "    loaded_model_decision = pk.load(f)\n",
        "print(loaded_model_decision)"
      ]
    },
    {
      "cell_type": "markdown",
      "metadata": {
        "id": "_SU1WP3xPfK1"
      },
      "source": [
        "# **Modelling (Random Forest)**\n",
        "## **Baseline**"
      ]
    },
    {
      "cell_type": "code",
      "execution_count": null,
      "metadata": {
        "colab": {
          "base_uri": "https://localhost:8080/"
        },
        "id": "Zmwc6ssoPYQk",
        "outputId": "4f85fc33-b1ff-49b1-b221-85fe93673908"
      },
      "outputs": [
        {
          "output_type": "stream",
          "name": "stdout",
          "text": [
            "Baseline Accuracy: 0.9596\n"
          ]
        }
      ],
      "source": [
        "#Baseling showing 95% belongs to a negative class\n",
        "acc_baseline = y_train.value_counts(normalize=True).max()\n",
        "print(\"Baseline Accuracy:\", round(acc_baseline, 4))"
      ]
    },
    {
      "cell_type": "code",
      "execution_count": null,
      "metadata": {
        "colab": {
          "base_uri": "https://localhost:8080/"
        },
        "id": "H-qDF6ZnQFza",
        "outputId": "8dcb1503-3306-4687-bd12-bd2e47d3b07a"
      },
      "outputs": [
        {
          "output_type": "stream",
          "name": "stdout",
          "text": [
            "Pipeline(steps=[('simpleimputer', SimpleImputer()),\n",
            "                ('randomforestclassifier',\n",
            "                 RandomForestClassifier(random_state=42))])\n"
          ]
        }
      ],
      "source": [
        "#Instantiate an object of a classifier to build a model pipeline with imputer and randomforest classifier as paramenters\n",
        "clf = make_pipeline(SimpleImputer(), RandomForestClassifier(random_state=42))\n",
        "print(clf)"
      ]
    },
    {
      "cell_type": "markdown",
      "metadata": {
        "id": "t9eE0NURRmKg"
      },
      "source": [
        "## **Model building**"
      ]
    },
    {
      "cell_type": "code",
      "execution_count": null,
      "metadata": {
        "colab": {
          "base_uri": "https://localhost:8080/"
        },
        "id": "jth5TEoSRkVZ",
        "outputId": "b7f028dc-42f1-4948-fbfb-4bd4f7a85dc6"
      },
      "outputs": [
        {
          "output_type": "stream",
          "name": "stdout",
          "text": [
            "[0.99807939 0.99903969 0.99679898 0.99839898 0.99775857]\n"
          ]
        }
      ],
      "source": [
        "#create a cross validation accuracy scores for k=5 folds\n",
        "cv_acc_scores = cross_val_score(clf, X_train_over, y_train_over, cv=5, n_jobs=-1)\n",
        "print(cv_acc_scores)"
      ]
    },
    {
      "cell_type": "markdown",
      "metadata": {
        "id": "scWNR44qSVKN"
      },
      "source": [
        "## **Hyperparameter Tuning**"
      ]
    },
    {
      "cell_type": "code",
      "execution_count": null,
      "metadata": {
        "colab": {
          "base_uri": "https://localhost:8080/"
        },
        "id": "NBQQJ_tfRVAN",
        "outputId": "49da1442-5f8d-4c30-fd5a-2ab5a0caba57"
      },
      "outputs": [
        {
          "output_type": "execute_result",
          "data": {
            "text/plain": [
              "{'simpleimputer__strategy': ['mean', 'median'],\n",
              " 'randomforestclassifier__n_estimators': range(25, 100, 25),\n",
              " 'randomforestclassifier__max_depth': range(10, 50, 10)}"
            ]
          },
          "metadata": {},
          "execution_count": 40
        }
      ],
      "source": [
        "#Create parameters to tune\n",
        "params = {\"simpleimputer__strategy\":[\"mean\",\"median\"],\n",
        "          \"randomforestclassifier__n_estimators\":range(25,100,25),\n",
        "          \"randomforestclassifier__max_depth\":range(10,50,10)}\n",
        "params"
      ]
    },
    {
      "cell_type": "code",
      "execution_count": null,
      "metadata": {
        "colab": {
          "base_uri": "https://localhost:8080/"
        },
        "id": "wGipxVcbRVdw",
        "outputId": "a1b1aa60-a312-4bba-af48-b6e8bc58955c"
      },
      "outputs": [
        {
          "output_type": "execute_result",
          "data": {
            "text/plain": [
              "GridSearchCV(cv=5,\n",
              "             estimator=Pipeline(steps=[('simpleimputer', SimpleImputer()),\n",
              "                                       ('randomforestclassifier',\n",
              "                                        RandomForestClassifier(random_state=42))]),\n",
              "             n_jobs=-1,\n",
              "             param_grid={'randomforestclassifier__max_depth': range(10, 50, 10),\n",
              "                         'randomforestclassifier__n_estimators': range(25, 100, 25),\n",
              "                         'simpleimputer__strategy': ['mean', 'median']},\n",
              "             verbose=1)"
            ]
          },
          "metadata": {},
          "execution_count": 41
        }
      ],
      "source": [
        "#create a model using gridsearchcv to iterate through the parameters\n",
        "model_randforest = GridSearchCV(clf, param_grid=params, cv=5, n_jobs = -1, verbose = 1)\n",
        "model_randforest"
      ]
    },
    {
      "cell_type": "code",
      "execution_count": null,
      "metadata": {
        "colab": {
          "base_uri": "https://localhost:8080/"
        },
        "id": "UkVjhFxQTCBS",
        "outputId": "21f15bb2-1622-4ca4-9744-33f9ea3782cf"
      },
      "outputs": [
        {
          "output_type": "stream",
          "name": "stdout",
          "text": [
            "Fitting 5 folds for each of 24 candidates, totalling 120 fits\n"
          ]
        },
        {
          "output_type": "execute_result",
          "data": {
            "text/plain": [
              "GridSearchCV(cv=5,\n",
              "             estimator=Pipeline(steps=[('simpleimputer', SimpleImputer()),\n",
              "                                       ('randomforestclassifier',\n",
              "                                        RandomForestClassifier(random_state=42))]),\n",
              "             n_jobs=-1,\n",
              "             param_grid={'randomforestclassifier__max_depth': range(10, 50, 10),\n",
              "                         'randomforestclassifier__n_estimators': range(25, 100, 25),\n",
              "                         'simpleimputer__strategy': ['mean', 'median']},\n",
              "             verbose=1)"
            ]
          },
          "metadata": {},
          "execution_count": 42
        }
      ],
      "source": [
        "# Train model on oversampled data\n",
        "model_randforest.fit(X_train_over, y_train_over)"
      ]
    },
    {
      "cell_type": "code",
      "execution_count": null,
      "metadata": {
        "colab": {
          "base_uri": "https://localhost:8080/"
        },
        "id": "CoxsjPz9RVtZ",
        "outputId": "cfbe606d-1a28-4fa4-bb9f-98bb3deca8a6"
      },
      "outputs": [
        {
          "output_type": "execute_result",
          "data": {
            "text/plain": [
              "dict"
            ]
          },
          "metadata": {},
          "execution_count": 43
        }
      ],
      "source": [
        "#datatype for model.cv_results_\n",
        "type(model_randforest.cv_results_)"
      ]
    },
    {
      "cell_type": "code",
      "execution_count": null,
      "metadata": {
        "colab": {
          "base_uri": "https://localhost:8080/"
        },
        "id": "ce5uxvq0dOcu",
        "outputId": "dcd6a7fc-cf1c-4974-d357-aa53e981833c"
      },
      "outputs": [
        {
          "output_type": "execute_result",
          "data": {
            "text/plain": [
              "   mean_fit_time  std_fit_time  mean_score_time  std_score_time  \\\n",
              "0       1.254521      0.017064         0.019447        0.005872   \n",
              "1       1.349486      0.024351         0.015088        0.000188   \n",
              "2       2.477800      0.029580         0.025999        0.000999   \n",
              "3       2.555345      0.024599         0.027072        0.002212   \n",
              "4       3.690852      0.016145         0.034792        0.000721   \n",
              "5       3.797413      0.019655         0.041047        0.008611   \n",
              "6       1.421711      0.012904         0.016988        0.001262   \n",
              "7       1.529576      0.014999         0.017236        0.000727   \n",
              "8       2.858092      0.032159         0.028282        0.000583   \n",
              "9       2.975517      0.054358         0.028993        0.000814   \n",
              "\n",
              "  param_randomforestclassifier__max_depth  \\\n",
              "0                                      10   \n",
              "1                                      10   \n",
              "2                                      10   \n",
              "3                                      10   \n",
              "4                                      10   \n",
              "5                                      10   \n",
              "6                                      20   \n",
              "7                                      20   \n",
              "8                                      20   \n",
              "9                                      20   \n",
              "\n",
              "  param_randomforestclassifier__n_estimators param_simpleimputer__strategy  \\\n",
              "0                                         25                          mean   \n",
              "1                                         25                        median   \n",
              "2                                         50                          mean   \n",
              "3                                         50                        median   \n",
              "4                                         75                          mean   \n",
              "5                                         75                        median   \n",
              "6                                         25                          mean   \n",
              "7                                         25                        median   \n",
              "8                                         50                          mean   \n",
              "9                                         50                        median   \n",
              "\n",
              "                                              params  split0_test_score  \\\n",
              "0  {'randomforestclassifier__max_depth': 10, 'ran...           0.988476   \n",
              "1  {'randomforestclassifier__max_depth': 10, 'ran...           0.983995   \n",
              "2  {'randomforestclassifier__max_depth': 10, 'ran...           0.985915   \n",
              "3  {'randomforestclassifier__max_depth': 10, 'ran...           0.981434   \n",
              "4  {'randomforestclassifier__max_depth': 10, 'ran...           0.987516   \n",
              "5  {'randomforestclassifier__max_depth': 10, 'ran...           0.983035   \n",
              "6  {'randomforestclassifier__max_depth': 20, 'ran...           0.998399   \n",
              "7  {'randomforestclassifier__max_depth': 20, 'ran...           0.997439   \n",
              "8  {'randomforestclassifier__max_depth': 20, 'ran...           0.997759   \n",
              "9  {'randomforestclassifier__max_depth': 20, 'ran...           0.997439   \n",
              "\n",
              "   split1_test_score  split2_test_score  split3_test_score  split4_test_score  \\\n",
              "0           0.981434           0.979513           0.983029           0.984310   \n",
              "1           0.980154           0.979193           0.980147           0.980467   \n",
              "2           0.982074           0.979834           0.985591           0.984310   \n",
              "3           0.979834           0.977273           0.983349           0.980147   \n",
              "4           0.983355           0.981434           0.985591           0.983990   \n",
              "5           0.982714           0.977273           0.983990           0.983349   \n",
              "6           0.998079           0.995519           0.996798           0.997118   \n",
              "7           0.996799           0.995519           0.997438           0.996798   \n",
              "8           0.998720           0.995519           0.997759           0.997118   \n",
              "9           0.998079           0.996159           0.997438           0.997118   \n",
              "\n",
              "   mean_test_score  std_test_score  rank_test_score  \n",
              "0         0.983353        0.003023               21  \n",
              "1         0.980791        0.001658               23  \n",
              "2         0.983545        0.002295               20  \n",
              "3         0.980407        0.001997               24  \n",
              "4         0.984377        0.002058               19  \n",
              "5         0.982072        0.002436               22  \n",
              "6         0.997183        0.001020               17  \n",
              "7         0.996799        0.000701               18  \n",
              "8         0.997375        0.001060               14  \n",
              "9         0.997247        0.000627               15  "
            ],
            "text/html": [
              "\n",
              "  <div id=\"df-b1202761-e855-4685-be1f-3f198aa0b522\">\n",
              "    <div class=\"colab-df-container\">\n",
              "      <div>\n",
              "<style scoped>\n",
              "    .dataframe tbody tr th:only-of-type {\n",
              "        vertical-align: middle;\n",
              "    }\n",
              "\n",
              "    .dataframe tbody tr th {\n",
              "        vertical-align: top;\n",
              "    }\n",
              "\n",
              "    .dataframe thead th {\n",
              "        text-align: right;\n",
              "    }\n",
              "</style>\n",
              "<table border=\"1\" class=\"dataframe\">\n",
              "  <thead>\n",
              "    <tr style=\"text-align: right;\">\n",
              "      <th></th>\n",
              "      <th>mean_fit_time</th>\n",
              "      <th>std_fit_time</th>\n",
              "      <th>mean_score_time</th>\n",
              "      <th>std_score_time</th>\n",
              "      <th>param_randomforestclassifier__max_depth</th>\n",
              "      <th>param_randomforestclassifier__n_estimators</th>\n",
              "      <th>param_simpleimputer__strategy</th>\n",
              "      <th>params</th>\n",
              "      <th>split0_test_score</th>\n",
              "      <th>split1_test_score</th>\n",
              "      <th>split2_test_score</th>\n",
              "      <th>split3_test_score</th>\n",
              "      <th>split4_test_score</th>\n",
              "      <th>mean_test_score</th>\n",
              "      <th>std_test_score</th>\n",
              "      <th>rank_test_score</th>\n",
              "    </tr>\n",
              "  </thead>\n",
              "  <tbody>\n",
              "    <tr>\n",
              "      <th>0</th>\n",
              "      <td>1.254521</td>\n",
              "      <td>0.017064</td>\n",
              "      <td>0.019447</td>\n",
              "      <td>0.005872</td>\n",
              "      <td>10</td>\n",
              "      <td>25</td>\n",
              "      <td>mean</td>\n",
              "      <td>{'randomforestclassifier__max_depth': 10, 'ran...</td>\n",
              "      <td>0.988476</td>\n",
              "      <td>0.981434</td>\n",
              "      <td>0.979513</td>\n",
              "      <td>0.983029</td>\n",
              "      <td>0.984310</td>\n",
              "      <td>0.983353</td>\n",
              "      <td>0.003023</td>\n",
              "      <td>21</td>\n",
              "    </tr>\n",
              "    <tr>\n",
              "      <th>1</th>\n",
              "      <td>1.349486</td>\n",
              "      <td>0.024351</td>\n",
              "      <td>0.015088</td>\n",
              "      <td>0.000188</td>\n",
              "      <td>10</td>\n",
              "      <td>25</td>\n",
              "      <td>median</td>\n",
              "      <td>{'randomforestclassifier__max_depth': 10, 'ran...</td>\n",
              "      <td>0.983995</td>\n",
              "      <td>0.980154</td>\n",
              "      <td>0.979193</td>\n",
              "      <td>0.980147</td>\n",
              "      <td>0.980467</td>\n",
              "      <td>0.980791</td>\n",
              "      <td>0.001658</td>\n",
              "      <td>23</td>\n",
              "    </tr>\n",
              "    <tr>\n",
              "      <th>2</th>\n",
              "      <td>2.477800</td>\n",
              "      <td>0.029580</td>\n",
              "      <td>0.025999</td>\n",
              "      <td>0.000999</td>\n",
              "      <td>10</td>\n",
              "      <td>50</td>\n",
              "      <td>mean</td>\n",
              "      <td>{'randomforestclassifier__max_depth': 10, 'ran...</td>\n",
              "      <td>0.985915</td>\n",
              "      <td>0.982074</td>\n",
              "      <td>0.979834</td>\n",
              "      <td>0.985591</td>\n",
              "      <td>0.984310</td>\n",
              "      <td>0.983545</td>\n",
              "      <td>0.002295</td>\n",
              "      <td>20</td>\n",
              "    </tr>\n",
              "    <tr>\n",
              "      <th>3</th>\n",
              "      <td>2.555345</td>\n",
              "      <td>0.024599</td>\n",
              "      <td>0.027072</td>\n",
              "      <td>0.002212</td>\n",
              "      <td>10</td>\n",
              "      <td>50</td>\n",
              "      <td>median</td>\n",
              "      <td>{'randomforestclassifier__max_depth': 10, 'ran...</td>\n",
              "      <td>0.981434</td>\n",
              "      <td>0.979834</td>\n",
              "      <td>0.977273</td>\n",
              "      <td>0.983349</td>\n",
              "      <td>0.980147</td>\n",
              "      <td>0.980407</td>\n",
              "      <td>0.001997</td>\n",
              "      <td>24</td>\n",
              "    </tr>\n",
              "    <tr>\n",
              "      <th>4</th>\n",
              "      <td>3.690852</td>\n",
              "      <td>0.016145</td>\n",
              "      <td>0.034792</td>\n",
              "      <td>0.000721</td>\n",
              "      <td>10</td>\n",
              "      <td>75</td>\n",
              "      <td>mean</td>\n",
              "      <td>{'randomforestclassifier__max_depth': 10, 'ran...</td>\n",
              "      <td>0.987516</td>\n",
              "      <td>0.983355</td>\n",
              "      <td>0.981434</td>\n",
              "      <td>0.985591</td>\n",
              "      <td>0.983990</td>\n",
              "      <td>0.984377</td>\n",
              "      <td>0.002058</td>\n",
              "      <td>19</td>\n",
              "    </tr>\n",
              "    <tr>\n",
              "      <th>5</th>\n",
              "      <td>3.797413</td>\n",
              "      <td>0.019655</td>\n",
              "      <td>0.041047</td>\n",
              "      <td>0.008611</td>\n",
              "      <td>10</td>\n",
              "      <td>75</td>\n",
              "      <td>median</td>\n",
              "      <td>{'randomforestclassifier__max_depth': 10, 'ran...</td>\n",
              "      <td>0.983035</td>\n",
              "      <td>0.982714</td>\n",
              "      <td>0.977273</td>\n",
              "      <td>0.983990</td>\n",
              "      <td>0.983349</td>\n",
              "      <td>0.982072</td>\n",
              "      <td>0.002436</td>\n",
              "      <td>22</td>\n",
              "    </tr>\n",
              "    <tr>\n",
              "      <th>6</th>\n",
              "      <td>1.421711</td>\n",
              "      <td>0.012904</td>\n",
              "      <td>0.016988</td>\n",
              "      <td>0.001262</td>\n",
              "      <td>20</td>\n",
              "      <td>25</td>\n",
              "      <td>mean</td>\n",
              "      <td>{'randomforestclassifier__max_depth': 20, 'ran...</td>\n",
              "      <td>0.998399</td>\n",
              "      <td>0.998079</td>\n",
              "      <td>0.995519</td>\n",
              "      <td>0.996798</td>\n",
              "      <td>0.997118</td>\n",
              "      <td>0.997183</td>\n",
              "      <td>0.001020</td>\n",
              "      <td>17</td>\n",
              "    </tr>\n",
              "    <tr>\n",
              "      <th>7</th>\n",
              "      <td>1.529576</td>\n",
              "      <td>0.014999</td>\n",
              "      <td>0.017236</td>\n",
              "      <td>0.000727</td>\n",
              "      <td>20</td>\n",
              "      <td>25</td>\n",
              "      <td>median</td>\n",
              "      <td>{'randomforestclassifier__max_depth': 20, 'ran...</td>\n",
              "      <td>0.997439</td>\n",
              "      <td>0.996799</td>\n",
              "      <td>0.995519</td>\n",
              "      <td>0.997438</td>\n",
              "      <td>0.996798</td>\n",
              "      <td>0.996799</td>\n",
              "      <td>0.000701</td>\n",
              "      <td>18</td>\n",
              "    </tr>\n",
              "    <tr>\n",
              "      <th>8</th>\n",
              "      <td>2.858092</td>\n",
              "      <td>0.032159</td>\n",
              "      <td>0.028282</td>\n",
              "      <td>0.000583</td>\n",
              "      <td>20</td>\n",
              "      <td>50</td>\n",
              "      <td>mean</td>\n",
              "      <td>{'randomforestclassifier__max_depth': 20, 'ran...</td>\n",
              "      <td>0.997759</td>\n",
              "      <td>0.998720</td>\n",
              "      <td>0.995519</td>\n",
              "      <td>0.997759</td>\n",
              "      <td>0.997118</td>\n",
              "      <td>0.997375</td>\n",
              "      <td>0.001060</td>\n",
              "      <td>14</td>\n",
              "    </tr>\n",
              "    <tr>\n",
              "      <th>9</th>\n",
              "      <td>2.975517</td>\n",
              "      <td>0.054358</td>\n",
              "      <td>0.028993</td>\n",
              "      <td>0.000814</td>\n",
              "      <td>20</td>\n",
              "      <td>50</td>\n",
              "      <td>median</td>\n",
              "      <td>{'randomforestclassifier__max_depth': 20, 'ran...</td>\n",
              "      <td>0.997439</td>\n",
              "      <td>0.998079</td>\n",
              "      <td>0.996159</td>\n",
              "      <td>0.997438</td>\n",
              "      <td>0.997118</td>\n",
              "      <td>0.997247</td>\n",
              "      <td>0.000627</td>\n",
              "      <td>15</td>\n",
              "    </tr>\n",
              "  </tbody>\n",
              "</table>\n",
              "</div>\n",
              "      <button class=\"colab-df-convert\" onclick=\"convertToInteractive('df-b1202761-e855-4685-be1f-3f198aa0b522')\"\n",
              "              title=\"Convert this dataframe to an interactive table.\"\n",
              "              style=\"display:none;\">\n",
              "        \n",
              "  <svg xmlns=\"http://www.w3.org/2000/svg\" height=\"24px\"viewBox=\"0 0 24 24\"\n",
              "       width=\"24px\">\n",
              "    <path d=\"M0 0h24v24H0V0z\" fill=\"none\"/>\n",
              "    <path d=\"M18.56 5.44l.94 2.06.94-2.06 2.06-.94-2.06-.94-.94-2.06-.94 2.06-2.06.94zm-11 1L8.5 8.5l.94-2.06 2.06-.94-2.06-.94L8.5 2.5l-.94 2.06-2.06.94zm10 10l.94 2.06.94-2.06 2.06-.94-2.06-.94-.94-2.06-.94 2.06-2.06.94z\"/><path d=\"M17.41 7.96l-1.37-1.37c-.4-.4-.92-.59-1.43-.59-.52 0-1.04.2-1.43.59L10.3 9.45l-7.72 7.72c-.78.78-.78 2.05 0 2.83L4 21.41c.39.39.9.59 1.41.59.51 0 1.02-.2 1.41-.59l7.78-7.78 2.81-2.81c.8-.78.8-2.07 0-2.86zM5.41 20L4 18.59l7.72-7.72 1.47 1.35L5.41 20z\"/>\n",
              "  </svg>\n",
              "      </button>\n",
              "      \n",
              "  <style>\n",
              "    .colab-df-container {\n",
              "      display:flex;\n",
              "      flex-wrap:wrap;\n",
              "      gap: 12px;\n",
              "    }\n",
              "\n",
              "    .colab-df-convert {\n",
              "      background-color: #E8F0FE;\n",
              "      border: none;\n",
              "      border-radius: 50%;\n",
              "      cursor: pointer;\n",
              "      display: none;\n",
              "      fill: #1967D2;\n",
              "      height: 32px;\n",
              "      padding: 0 0 0 0;\n",
              "      width: 32px;\n",
              "    }\n",
              "\n",
              "    .colab-df-convert:hover {\n",
              "      background-color: #E2EBFA;\n",
              "      box-shadow: 0px 1px 2px rgba(60, 64, 67, 0.3), 0px 1px 3px 1px rgba(60, 64, 67, 0.15);\n",
              "      fill: #174EA6;\n",
              "    }\n",
              "\n",
              "    [theme=dark] .colab-df-convert {\n",
              "      background-color: #3B4455;\n",
              "      fill: #D2E3FC;\n",
              "    }\n",
              "\n",
              "    [theme=dark] .colab-df-convert:hover {\n",
              "      background-color: #434B5C;\n",
              "      box-shadow: 0px 1px 3px 1px rgba(0, 0, 0, 0.15);\n",
              "      filter: drop-shadow(0px 1px 2px rgba(0, 0, 0, 0.3));\n",
              "      fill: #FFFFFF;\n",
              "    }\n",
              "  </style>\n",
              "\n",
              "      <script>\n",
              "        const buttonEl =\n",
              "          document.querySelector('#df-b1202761-e855-4685-be1f-3f198aa0b522 button.colab-df-convert');\n",
              "        buttonEl.style.display =\n",
              "          google.colab.kernel.accessAllowed ? 'block' : 'none';\n",
              "\n",
              "        async function convertToInteractive(key) {\n",
              "          const element = document.querySelector('#df-b1202761-e855-4685-be1f-3f198aa0b522');\n",
              "          const dataTable =\n",
              "            await google.colab.kernel.invokeFunction('convertToInteractive',\n",
              "                                                     [key], {});\n",
              "          if (!dataTable) return;\n",
              "\n",
              "          const docLinkHtml = 'Like what you see? Visit the ' +\n",
              "            '<a target=\"_blank\" href=https://colab.research.google.com/notebooks/data_table.ipynb>data table notebook</a>'\n",
              "            + ' to learn more about interactive tables.';\n",
              "          element.innerHTML = '';\n",
              "          dataTable['output_type'] = 'display_data';\n",
              "          await google.colab.output.renderOutput(dataTable, element);\n",
              "          const docLink = document.createElement('div');\n",
              "          docLink.innerHTML = docLinkHtml;\n",
              "          element.appendChild(docLink);\n",
              "        }\n",
              "      </script>\n",
              "    </div>\n",
              "  </div>\n",
              "  "
            ]
          },
          "metadata": {},
          "execution_count": 44
        }
      ],
      "source": [
        "cv_results = pd.DataFrame(model_randforest.cv_results_)\n",
        "cv_results.head(10)"
      ]
    },
    {
      "cell_type": "code",
      "source": [
        "# Extract best hyperparameters\n",
        "model_randforest.best_params_"
      ],
      "metadata": {
        "colab": {
          "base_uri": "https://localhost:8080/"
        },
        "id": "WoZQiCMxoYmM",
        "outputId": "eb54acd5-51ae-4923-ba2d-b6f2e6604e6f"
      },
      "execution_count": null,
      "outputs": [
        {
          "output_type": "execute_result",
          "data": {
            "text/plain": [
              "{'randomforestclassifier__max_depth': 30,\n",
              " 'randomforestclassifier__n_estimators': 25,\n",
              " 'simpleimputer__strategy': 'mean'}"
            ]
          },
          "metadata": {},
          "execution_count": 45
        }
      ]
    },
    {
      "cell_type": "code",
      "source": [
        "# Extract best score\n",
        "model_randforest.best_score_"
      ],
      "metadata": {
        "colab": {
          "base_uri": "https://localhost:8080/"
        },
        "id": "YJTfMiVEoZJi",
        "outputId": "94032bce-eb4f-4968-9135-f4114893ba2c"
      },
      "execution_count": null,
      "outputs": [
        {
          "output_type": "execute_result",
          "data": {
            "text/plain": [
              "0.9982712418662413"
            ]
          },
          "metadata": {},
          "execution_count": 46
        }
      ]
    },
    {
      "cell_type": "code",
      "source": [
        "# Extract best estimator\n",
        "model_randforest.best_estimator_"
      ],
      "metadata": {
        "colab": {
          "base_uri": "https://localhost:8080/"
        },
        "id": "kLjW5WGooZLA",
        "outputId": "34753f35-0c59-423b-ec64-319f9326603b"
      },
      "execution_count": null,
      "outputs": [
        {
          "output_type": "execute_result",
          "data": {
            "text/plain": [
              "Pipeline(steps=[('simpleimputer', SimpleImputer()),\n",
              "                ('randomforestclassifier',\n",
              "                 RandomForestClassifier(max_depth=30, n_estimators=25,\n",
              "                                        random_state=42))])"
            ]
          },
          "metadata": {},
          "execution_count": 47
        }
      ]
    },
    {
      "cell_type": "code",
      "source": [
        "y_pred_over = model_randforest.predict(X_train_over)\n",
        "y_pred_over"
      ],
      "metadata": {
        "colab": {
          "base_uri": "https://localhost:8080/"
        },
        "id": "2WBuc3a-oZSW",
        "outputId": "e2257ea2-7c4a-4741-f9ba-e98d7775b210"
      },
      "execution_count": null,
      "outputs": [
        {
          "output_type": "execute_result",
          "data": {
            "text/plain": [
              "array([0, 0, 0, ..., 1, 1, 1])"
            ]
          },
          "metadata": {},
          "execution_count": 48
        }
      ]
    },
    {
      "cell_type": "code",
      "source": [
        "X_test_over, y_test_over = over_sampler.fit_resample(X_test, y_test) #fit over_sampler on X_test, y_test\n",
        "print(\"X_test_over shape:\", X_test_over.shape)\n",
        "print(\"y_test_over shape:\", y_test_over.shape)\n",
        "X_test_over.head()"
      ],
      "metadata": {
        "colab": {
          "base_uri": "https://localhost:8080/"
        },
        "id": "nsXdJ5guoZgt",
        "outputId": "cc3ac799-4d52-4240-ae06-9b0526117a91"
      },
      "execution_count": null,
      "outputs": [
        {
          "output_type": "stream",
          "name": "stdout",
          "text": [
            "X_test_over shape: (3928, 64)\n",
            "y_test_over shape: (3928,)\n"
          ]
        },
        {
          "output_type": "execute_result",
          "data": {
            "text/plain": [
              "      Attr1    Attr2     Attr3   Attr4     Attr5     Attr6     Attr7    Attr8  \\\n",
              "0  0.147930  0.15807  0.745460  6.5463  101.1300  0.000000  0.176420  5.32640   \n",
              "1 -0.058150  0.29282  0.447860  2.6104   22.0610  0.000000 -0.058150  2.41510   \n",
              "2  0.452680  0.17496  0.811740  5.6396  185.7400  0.000000  0.559470  4.71560   \n",
              "3  0.061942  0.61124  0.087215  1.1841  -67.8040  0.215740  0.075846  0.62118   \n",
              "4  0.034872  0.84491  0.159110  1.1963   -2.3614  0.083962  0.035325  0.17612   \n",
              "\n",
              "    Attr9   Attr10  ...   Attr55    Attr56    Attr57   Attr58   Attr59  \\\n",
              "0  1.6115  0.84193  ...   7227.3  0.063348  0.175700  0.89548  0.00000   \n",
              "1  1.7315  0.70718  ...   1296.7 -0.025776 -0.082229  1.03340  0.00639   \n",
              "2  1.9795  0.82504  ...   1739.5  0.267150  0.548680  0.72228  0.00000   \n",
              "3  1.1024  0.37969  ...  30423.0  0.092871  0.163140  0.90713  0.36216   \n",
              "4  1.0100  0.14881  ...  95718.0  0.009939  0.234340  0.99006  0.23211   \n",
              "\n",
              "     Attr60  Attr61   Attr62   Attr63    Attr64  \n",
              "0    4.9590  7.5964   30.443  11.9890   13.4140  \n",
              "1    5.0091  4.6369   58.624   6.2261    6.3186  \n",
              "2  687.6000  6.4922   32.261  11.3140  148.7800  \n",
              "3    4.5251  5.9886  122.960   2.9685    3.2029  \n",
              "4   26.1710  7.9769   59.179   6.1677  163.7800  \n",
              "\n",
              "[5 rows x 64 columns]"
            ],
            "text/html": [
              "\n",
              "  <div id=\"df-54dd9a57-6678-439e-84d2-2fd9ef64cc8b\">\n",
              "    <div class=\"colab-df-container\">\n",
              "      <div>\n",
              "<style scoped>\n",
              "    .dataframe tbody tr th:only-of-type {\n",
              "        vertical-align: middle;\n",
              "    }\n",
              "\n",
              "    .dataframe tbody tr th {\n",
              "        vertical-align: top;\n",
              "    }\n",
              "\n",
              "    .dataframe thead th {\n",
              "        text-align: right;\n",
              "    }\n",
              "</style>\n",
              "<table border=\"1\" class=\"dataframe\">\n",
              "  <thead>\n",
              "    <tr style=\"text-align: right;\">\n",
              "      <th></th>\n",
              "      <th>Attr1</th>\n",
              "      <th>Attr2</th>\n",
              "      <th>Attr3</th>\n",
              "      <th>Attr4</th>\n",
              "      <th>Attr5</th>\n",
              "      <th>Attr6</th>\n",
              "      <th>Attr7</th>\n",
              "      <th>Attr8</th>\n",
              "      <th>Attr9</th>\n",
              "      <th>Attr10</th>\n",
              "      <th>...</th>\n",
              "      <th>Attr55</th>\n",
              "      <th>Attr56</th>\n",
              "      <th>Attr57</th>\n",
              "      <th>Attr58</th>\n",
              "      <th>Attr59</th>\n",
              "      <th>Attr60</th>\n",
              "      <th>Attr61</th>\n",
              "      <th>Attr62</th>\n",
              "      <th>Attr63</th>\n",
              "      <th>Attr64</th>\n",
              "    </tr>\n",
              "  </thead>\n",
              "  <tbody>\n",
              "    <tr>\n",
              "      <th>0</th>\n",
              "      <td>0.147930</td>\n",
              "      <td>0.15807</td>\n",
              "      <td>0.745460</td>\n",
              "      <td>6.5463</td>\n",
              "      <td>101.1300</td>\n",
              "      <td>0.000000</td>\n",
              "      <td>0.176420</td>\n",
              "      <td>5.32640</td>\n",
              "      <td>1.6115</td>\n",
              "      <td>0.84193</td>\n",
              "      <td>...</td>\n",
              "      <td>7227.3</td>\n",
              "      <td>0.063348</td>\n",
              "      <td>0.175700</td>\n",
              "      <td>0.89548</td>\n",
              "      <td>0.00000</td>\n",
              "      <td>4.9590</td>\n",
              "      <td>7.5964</td>\n",
              "      <td>30.443</td>\n",
              "      <td>11.9890</td>\n",
              "      <td>13.4140</td>\n",
              "    </tr>\n",
              "    <tr>\n",
              "      <th>1</th>\n",
              "      <td>-0.058150</td>\n",
              "      <td>0.29282</td>\n",
              "      <td>0.447860</td>\n",
              "      <td>2.6104</td>\n",
              "      <td>22.0610</td>\n",
              "      <td>0.000000</td>\n",
              "      <td>-0.058150</td>\n",
              "      <td>2.41510</td>\n",
              "      <td>1.7315</td>\n",
              "      <td>0.70718</td>\n",
              "      <td>...</td>\n",
              "      <td>1296.7</td>\n",
              "      <td>-0.025776</td>\n",
              "      <td>-0.082229</td>\n",
              "      <td>1.03340</td>\n",
              "      <td>0.00639</td>\n",
              "      <td>5.0091</td>\n",
              "      <td>4.6369</td>\n",
              "      <td>58.624</td>\n",
              "      <td>6.2261</td>\n",
              "      <td>6.3186</td>\n",
              "    </tr>\n",
              "    <tr>\n",
              "      <th>2</th>\n",
              "      <td>0.452680</td>\n",
              "      <td>0.17496</td>\n",
              "      <td>0.811740</td>\n",
              "      <td>5.6396</td>\n",
              "      <td>185.7400</td>\n",
              "      <td>0.000000</td>\n",
              "      <td>0.559470</td>\n",
              "      <td>4.71560</td>\n",
              "      <td>1.9795</td>\n",
              "      <td>0.82504</td>\n",
              "      <td>...</td>\n",
              "      <td>1739.5</td>\n",
              "      <td>0.267150</td>\n",
              "      <td>0.548680</td>\n",
              "      <td>0.72228</td>\n",
              "      <td>0.00000</td>\n",
              "      <td>687.6000</td>\n",
              "      <td>6.4922</td>\n",
              "      <td>32.261</td>\n",
              "      <td>11.3140</td>\n",
              "      <td>148.7800</td>\n",
              "    </tr>\n",
              "    <tr>\n",
              "      <th>3</th>\n",
              "      <td>0.061942</td>\n",
              "      <td>0.61124</td>\n",
              "      <td>0.087215</td>\n",
              "      <td>1.1841</td>\n",
              "      <td>-67.8040</td>\n",
              "      <td>0.215740</td>\n",
              "      <td>0.075846</td>\n",
              "      <td>0.62118</td>\n",
              "      <td>1.1024</td>\n",
              "      <td>0.37969</td>\n",
              "      <td>...</td>\n",
              "      <td>30423.0</td>\n",
              "      <td>0.092871</td>\n",
              "      <td>0.163140</td>\n",
              "      <td>0.90713</td>\n",
              "      <td>0.36216</td>\n",
              "      <td>4.5251</td>\n",
              "      <td>5.9886</td>\n",
              "      <td>122.960</td>\n",
              "      <td>2.9685</td>\n",
              "      <td>3.2029</td>\n",
              "    </tr>\n",
              "    <tr>\n",
              "      <th>4</th>\n",
              "      <td>0.034872</td>\n",
              "      <td>0.84491</td>\n",
              "      <td>0.159110</td>\n",
              "      <td>1.1963</td>\n",
              "      <td>-2.3614</td>\n",
              "      <td>0.083962</td>\n",
              "      <td>0.035325</td>\n",
              "      <td>0.17612</td>\n",
              "      <td>1.0100</td>\n",
              "      <td>0.14881</td>\n",
              "      <td>...</td>\n",
              "      <td>95718.0</td>\n",
              "      <td>0.009939</td>\n",
              "      <td>0.234340</td>\n",
              "      <td>0.99006</td>\n",
              "      <td>0.23211</td>\n",
              "      <td>26.1710</td>\n",
              "      <td>7.9769</td>\n",
              "      <td>59.179</td>\n",
              "      <td>6.1677</td>\n",
              "      <td>163.7800</td>\n",
              "    </tr>\n",
              "  </tbody>\n",
              "</table>\n",
              "<p>5 rows × 64 columns</p>\n",
              "</div>\n",
              "      <button class=\"colab-df-convert\" onclick=\"convertToInteractive('df-54dd9a57-6678-439e-84d2-2fd9ef64cc8b')\"\n",
              "              title=\"Convert this dataframe to an interactive table.\"\n",
              "              style=\"display:none;\">\n",
              "        \n",
              "  <svg xmlns=\"http://www.w3.org/2000/svg\" height=\"24px\"viewBox=\"0 0 24 24\"\n",
              "       width=\"24px\">\n",
              "    <path d=\"M0 0h24v24H0V0z\" fill=\"none\"/>\n",
              "    <path d=\"M18.56 5.44l.94 2.06.94-2.06 2.06-.94-2.06-.94-.94-2.06-.94 2.06-2.06.94zm-11 1L8.5 8.5l.94-2.06 2.06-.94-2.06-.94L8.5 2.5l-.94 2.06-2.06.94zm10 10l.94 2.06.94-2.06 2.06-.94-2.06-.94-.94-2.06-.94 2.06-2.06.94z\"/><path d=\"M17.41 7.96l-1.37-1.37c-.4-.4-.92-.59-1.43-.59-.52 0-1.04.2-1.43.59L10.3 9.45l-7.72 7.72c-.78.78-.78 2.05 0 2.83L4 21.41c.39.39.9.59 1.41.59.51 0 1.02-.2 1.41-.59l7.78-7.78 2.81-2.81c.8-.78.8-2.07 0-2.86zM5.41 20L4 18.59l7.72-7.72 1.47 1.35L5.41 20z\"/>\n",
              "  </svg>\n",
              "      </button>\n",
              "      \n",
              "  <style>\n",
              "    .colab-df-container {\n",
              "      display:flex;\n",
              "      flex-wrap:wrap;\n",
              "      gap: 12px;\n",
              "    }\n",
              "\n",
              "    .colab-df-convert {\n",
              "      background-color: #E8F0FE;\n",
              "      border: none;\n",
              "      border-radius: 50%;\n",
              "      cursor: pointer;\n",
              "      display: none;\n",
              "      fill: #1967D2;\n",
              "      height: 32px;\n",
              "      padding: 0 0 0 0;\n",
              "      width: 32px;\n",
              "    }\n",
              "\n",
              "    .colab-df-convert:hover {\n",
              "      background-color: #E2EBFA;\n",
              "      box-shadow: 0px 1px 2px rgba(60, 64, 67, 0.3), 0px 1px 3px 1px rgba(60, 64, 67, 0.15);\n",
              "      fill: #174EA6;\n",
              "    }\n",
              "\n",
              "    [theme=dark] .colab-df-convert {\n",
              "      background-color: #3B4455;\n",
              "      fill: #D2E3FC;\n",
              "    }\n",
              "\n",
              "    [theme=dark] .colab-df-convert:hover {\n",
              "      background-color: #434B5C;\n",
              "      box-shadow: 0px 1px 3px 1px rgba(0, 0, 0, 0.15);\n",
              "      filter: drop-shadow(0px 1px 2px rgba(0, 0, 0, 0.3));\n",
              "      fill: #FFFFFF;\n",
              "    }\n",
              "  </style>\n",
              "\n",
              "      <script>\n",
              "        const buttonEl =\n",
              "          document.querySelector('#df-54dd9a57-6678-439e-84d2-2fd9ef64cc8b button.colab-df-convert');\n",
              "        buttonEl.style.display =\n",
              "          google.colab.kernel.accessAllowed ? 'block' : 'none';\n",
              "\n",
              "        async function convertToInteractive(key) {\n",
              "          const element = document.querySelector('#df-54dd9a57-6678-439e-84d2-2fd9ef64cc8b');\n",
              "          const dataTable =\n",
              "            await google.colab.kernel.invokeFunction('convertToInteractive',\n",
              "                                                     [key], {});\n",
              "          if (!dataTable) return;\n",
              "\n",
              "          const docLinkHtml = 'Like what you see? Visit the ' +\n",
              "            '<a target=\"_blank\" href=https://colab.research.google.com/notebooks/data_table.ipynb>data table notebook</a>'\n",
              "            + ' to learn more about interactive tables.';\n",
              "          element.innerHTML = '';\n",
              "          dataTable['output_type'] = 'display_data';\n",
              "          await google.colab.output.renderOutput(dataTable, element);\n",
              "          const docLink = document.createElement('div');\n",
              "          docLink.innerHTML = docLinkHtml;\n",
              "          element.appendChild(docLink);\n",
              "        }\n",
              "      </script>\n",
              "    </div>\n",
              "  </div>\n",
              "  "
            ]
          },
          "metadata": {},
          "execution_count": 49
        }
      ]
    },
    {
      "cell_type": "code",
      "source": [
        "acc_train = model_randforest .score(X_train_over, y_train_over)\n",
        "acc_test = model_randforest.score(X_test_over, y_test_over)\n",
        "\n",
        "print(\"Training Accuracy:\", round(acc_train, 4))\n",
        "print(\"Test Accuracy:\", round(acc_test, 4))"
      ],
      "metadata": {
        "colab": {
          "base_uri": "https://localhost:8080/"
        },
        "id": "ZxE6b34xoZmr",
        "outputId": "39f756ac-e201-435f-e425-7be17b47b1e6"
      },
      "execution_count": null,
      "outputs": [
        {
          "output_type": "stream",
          "name": "stdout",
          "text": [
            "Training Accuracy: 1.0\n",
            "Test Accuracy: 0.6441\n"
          ]
        }
      ]
    },
    {
      "cell_type": "code",
      "source": [
        "y_test.value_counts(normalize = True)"
      ],
      "metadata": {
        "colab": {
          "base_uri": "https://localhost:8080/"
        },
        "id": "KOmtUW4eoZ4L",
        "outputId": "bc42514a-91ef-4d4c-e001-9a40fae07cae"
      },
      "execution_count": null,
      "outputs": [
        {
          "output_type": "execute_result",
          "data": {
            "text/plain": [
              "0    0.965111\n",
              "1    0.034889\n",
              "Name: Bankrupt, dtype: float64"
            ]
          },
          "metadata": {},
          "execution_count": 51
        }
      ]
    },
    {
      "cell_type": "code",
      "source": [
        "# Plot confusion matrix\n",
        "ConfusionMatrixDisplay.from_estimator(model_randforest, X_test, y_test);"
      ],
      "metadata": {
        "colab": {
          "base_uri": "https://localhost:8080/"
        },
        "id": "cCzu-ygioZ6f",
        "outputId": "f165d024-f8fe-4516-8c96-e75a6b0ad1fd"
      },
      "execution_count": null,
      "outputs": [
        {
          "output_type": "display_data",
          "data": {
            "text/plain": [
              "<Figure size 432x288 with 2 Axes>"
            ],
            "image/png": "[encoded data removed]"
          },
          "metadata": {
            "needs_background": "light"
          }
        }
      ]
    },
    {
      "cell_type": "code",
      "source": [
        "# Get feature names from training data\n",
        "features = X_train_over.columns\n",
        "# Extract importances from model\n",
        "importances = model_randforest.best_estimator_.named_steps[\"randomforestclassifier\"].feature_importances_\n",
        "# Create a series with feature names and importances\n",
        "feat_imp = pd.Series(importances, index=features).sort_values()\n",
        "# Plot 10 most important features\n",
        "feat_imp.tail(10).plot(kind = \"barh\")\n",
        "plt.xlabel(\"Gini Importance\")\n",
        "plt.ylabel(\"Feature\")\n",
        "plt.title(\"Feature Importance\");"
      ],
      "metadata": {
        "colab": {
          "base_uri": "https://localhost:8080/"
        },
        "id": "5BUk4uYeqWVH",
        "outputId": "4f8d7756-b86d-4755-cb60-8e98f628fc11"
      },
      "execution_count": null,
      "outputs": [
        {
          "output_type": "display_data",
          "data": {
            "text/plain": [
              "<Figure size 432x288 with 1 Axes>"
            ],
            "image/png": "[encoded data removed]"
          },
          "metadata": {
            "needs_background": "light"
          }
        }
      ]
    },
    {
      "cell_type": "code",
      "source": [
        "# Save your model as `\"model_randforest_file\"`\n",
        "with open(\"model_randforest_file\" , \"wb\") as f:     #write into a file name \"model_randforest_file\"\n",
        "    pk.dump(model_randforest, f)              #dump model_over in \"model_randforest_file\""
      ],
      "metadata": {
        "id": "AkPcmx8cqWr2"
      },
      "execution_count": null,
      "outputs": []
    },
    {
      "cell_type": "markdown",
      "source": [
        "# **Modelling (Gradient Boost )**"
      ],
      "metadata": {
        "id": "Jt9KG3AccYEM"
      }
    },
    {
      "cell_type": "code",
      "source": [],
      "metadata": {
        "id": "Vo_lhfD-cWtV"
      },
      "execution_count": null,
      "outputs": []
    },
    {
      "cell_type": "code",
      "source": [],
      "metadata": {
        "id": "3kdxkTvkcWvr"
      },
      "execution_count": null,
      "outputs": []
    },
    {
      "cell_type": "code",
      "source": [],
      "metadata": {
        "id": "q-ezNTBmcXDN"
      },
      "execution_count": null,
      "outputs": []
    }
  ],
  "metadata": {
    "colab": {
      "collapsed_sections": [
        "cqmRQathF7-x"
      ],
      "provenance": [],
      "authorship_tag": "ABX9TyOlRH+HktjMquTHnWjGrJLw",
      "include_colab_link": true
    },
    "kernelspec": {
      "display_name": "Python 3",
      "name": "python3"
    },
    "language_info": {
      "name": "python"
    }
  },
  "nbformat": 4,
  "nbformat_minor": 0
}